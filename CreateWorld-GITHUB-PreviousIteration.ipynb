{
 "cells": [
  {
   "cell_type": "markdown",
   "metadata": {
    "tags": []
   },
   "source": [
    "# Generate 5M sample from 400k individual data file"
   ]
  },
  {
   "cell_type": "markdown",
   "metadata": {},
   "source": [
    "## Imports"
   ]
  },
  {
   "cell_type": "code",
   "execution_count": 1,
   "metadata": {},
   "outputs": [],
   "source": [
    "import pandas as pd\n",
    "import numpy as np\n",
    "import time\n",
    "import random\n",
    "import matplotlib.pyplot as plt\n",
    "from Functions import *\n",
    "%matplotlib inline"
   ]
  },
  {
   "cell_type": "markdown",
   "metadata": {},
   "source": [
    "## User input"
   ]
  },
  {
   "cell_type": "code",
   "execution_count": 2,
   "metadata": {},
   "outputs": [],
   "source": [
    "START_TIME = time.time()"
   ]
  },
  {
   "cell_type": "markdown",
   "metadata": {
    "tags": []
   },
   "source": [
    "## Read input files"
   ]
  },
  {
   "cell_type": "markdown",
   "metadata": {
    "tags": []
   },
   "source": [
    "#### Census file"
   ]
  },
  {
   "cell_type": "code",
   "execution_count": 3,
   "metadata": {},
   "outputs": [],
   "source": [
    "dfC2011OldData = pd.read_excel(\"C2011_old_data_.xlsx\", engine = 'openpyxl')"
   ]
  },
  {
   "cell_type": "markdown",
   "metadata": {},
   "source": [
    "#### Nursing homes file"
   ]
  },
  {
   "cell_type": "code",
   "execution_count": 4,
   "metadata": {},
   "outputs": [],
   "source": [
    "nursingHomesFile = 'NewWorldResidences.csv'\n",
    "dfResidencias = pd.read_csv(nursingHomesFile, index_col=0)"
   ]
  },
  {
   "cell_type": "markdown",
   "metadata": {
    "tags": []
   },
   "source": [
    "## Preprocessing"
   ]
  },
  {
   "cell_type": "markdown",
   "metadata": {
    "tags": []
   },
   "source": [
    "### Census file"
   ]
  },
  {
   "cell_type": "code",
   "execution_count": 5,
   "metadata": {},
   "outputs": [
    {
     "name": "stdout",
     "output_type": "stream",
     "text": [
      "Cens file contains  408644 people\n"
     ]
    }
   ],
   "source": [
    "numPeople400k = len(dfC2011OldData)\n",
    "\n",
    "print('Cens file contains ', numPeople400k, 'people')"
   ]
  },
  {
   "cell_type": "markdown",
   "metadata": {
    "tags": []
   },
   "source": [
    "#### Sort data by regions in alphabetic order"
   ]
  },
  {
   "cell_type": "code",
   "execution_count": 6,
   "metadata": {},
   "outputs": [],
   "source": [
    "dfC2011OldData = dfC2011OldData.sort_values('Muni_rec')"
   ]
  },
  {
   "cell_type": "markdown",
   "metadata": {},
   "source": [
    "#### Get list of unique cities"
   ]
  },
  {
   "cell_type": "code",
   "execution_count": 7,
   "metadata": {},
   "outputs": [
    {
     "name": "stdout",
     "output_type": "stream",
     "text": [
      "The 33 muni recs are:\n",
      "\n",
      "['ALTP30_40' 'ALTP>40' 'ANOIA30_40' 'ANOIA>40' 'BAG30_40' 'BAG>40'\n",
      " 'BAIXLL10_15' 'BAIXLL15_20' 'BAIXLL20_25' 'BAIXLL<10' 'BAIXLL_ALTP_25_30'\n",
      " 'BCN' 'BCNES <10' 'BER>65' 'GAR30_40' 'GAR>40' 'MAR10_15' 'MAR15_20'\n",
      " 'MAR20_25' 'MAR25_30' 'MAR30_40' 'MAR>40' 'OSO>40' 'VAOCC10_15'\n",
      " 'VAOCC15_20' 'VAOCC20_25' 'VAOCC25_30' 'VAOCC_OR30_40' 'VAOR10_15'\n",
      " 'VAOR15_20' 'VAOR20_25' 'VAOR25_30' 'VAOR>40']\n"
     ]
    }
   ],
   "source": [
    "muniList = dfC2011OldData['Muni_rec'].unique()\n",
    "\n",
    "nMunis = len(muniList)\n",
    "print('The', nMunis, 'muni recs are:\\n') \n",
    "print(muniList)"
   ]
  },
  {
   "cell_type": "markdown",
   "metadata": {},
   "source": [
    "#### Get regions list from muni_rec plus BCN neighbourhoods (skip this cell if you want to use code33 regions from census only)"
   ]
  },
  {
   "cell_type": "code",
   "execution_count": 8,
   "metadata": {},
   "outputs": [],
   "source": [
    "muniRec400k = dfC2011OldData['Muni_rec'].to_numpy()\n",
    "region400k = np.copy(muniRec400k) \n",
    "\n",
    "neigBCN400k = dfC2011OldData['BARRIO_BCN'].to_numpy()\n",
    "neigBCN400k[neigBCN400k == 'Verdun, la Propsperitat'] = 'Verdun, la Prosperitat'  # Correct name\n",
    "\n",
    "neigBCN400k = 'BCN_'+neigBCN400k\n",
    "maskBCN = (muniRec400k == 'BCN') \n",
    "region400k[maskBCN] = neigBCN400k[maskBCN] "
   ]
  },
  {
   "cell_type": "markdown",
   "metadata": {},
   "source": [
    "#### Create 400k peopple arrays from inut file"
   ]
  },
  {
   "cell_type": "code",
   "execution_count": 9,
   "metadata": {},
   "outputs": [
    {
     "name": "stdout",
     "output_type": "stream",
     "text": [
      "Home ID: [ 896554 1297315 1297315 ...  325963 1361662 1488095]\n",
      "Age: [ 5  6 35 ... 52 31 30]\n",
      "Gender: [6 6 6 ... 1 1 1]\n",
      "Factor: [5 6 6 ... 6 3 8]\n",
      "Job status: [-1 -1  2 ...  1  1  2]\n",
      "Job location: [ 3  3 -1 ...  1  4 -1]\n",
      "Time to work: [ 2  1 -1 ... -1  2 -1]\n",
      "Home occupancy: [4 4 4 ... 6 3 4]\n"
     ]
    }
   ],
   "source": [
    "homeID400k = dfC2011OldData['IDHUECO'].to_numpy()\n",
    "age400k = dfC2011OldData['EDAD'].to_numpy()\n",
    "gender400k = dfC2011OldData['SEXO'].to_numpy()\n",
    "factor400k = round(dfC2011OldData['FACTOR']).to_numpy(dtype=int)\n",
    "jobStatus400k = dfC2011OldData['RELA'].to_numpy(dtype=int, na_value=-1)\n",
    "jobLocation400k = dfC2011OldData['LTRABA'].to_numpy(dtype=int, na_value=-1)\n",
    "timeToWork400k = dfC2011OldData['TDESP'].to_numpy(dtype=int, na_value=-1)\n",
    "homeOccupancy400k = dfC2011OldData['NNIEM'].to_numpy(dtype=int, na_value=-1)\n",
    "\n",
    "print('Home ID:', homeID400k)\n",
    "print('Age:', age400k)\n",
    "print('Gender:', gender400k)\n",
    "print('Factor:', factor400k)\n",
    "print('Job status:', jobStatus400k)\n",
    "print('Job location:', jobLocation400k)\n",
    "print('Time to work:', timeToWork400k)\n",
    "print('Home occupancy:', homeOccupancy400k)"
   ]
  },
  {
   "cell_type": "markdown",
   "metadata": {},
   "source": [
    "#### Create 5M people world from previous arrays (using factor400k)"
   ]
  },
  {
   "cell_type": "code",
   "execution_count": 10,
   "metadata": {},
   "outputs": [
    {
     "name": "stdout",
     "output_type": "stream",
     "text": [
      "Full world will have 5487860 people\n"
     ]
    }
   ],
   "source": [
    "numPeople5M = int(factor400k.sum())\n",
    "print('Full world will have', numPeople5M, 'people')\n",
    "\n",
    "homeID5M         = np.empty(numPeople5M, dtype=int)\n",
    "age5M            = np.empty(numPeople5M, dtype=int)\n",
    "gender5M         = np.empty(numPeople5M, dtype=int)\n",
    "region5M         = np.empty(numPeople5M, dtype=object) \n",
    "jobStatus5M      = np.empty(numPeople5M, dtype=int)\n",
    "jobLocation5M    = np.empty(numPeople5M, dtype=int)\n",
    "timeToWork5M     = np.empty(numPeople5M, dtype=int)\n",
    "homeOccupancy5M  = np.empty(numPeople5M, dtype=int)\n",
    "\n",
    "iCounter = 0\n",
    "for iPeople in range(numPeople400k):    \n",
    "    for iFactor in range(factor400k[iPeople]):\n",
    "        \n",
    "        homeID5M[iCounter]         = homeID400k[iPeople] * 1000 + iFactor\n",
    "        age5M[iCounter]            = age400k[iPeople]\n",
    "        gender5M[iCounter]         = gender400k[iPeople]\n",
    "        region5M[iCounter]         = region400k[iPeople]        \n",
    "        jobStatus5M[iCounter]      = jobStatus400k[iPeople]        \n",
    "        jobLocation5M[iCounter]    = jobLocation400k[iPeople]        \n",
    "        timeToWork5M[iCounter]     = timeToWork400k[iPeople]        \n",
    "        homeOccupancy5M[iCounter]  = homeOccupancy400k[iPeople]        \n",
    "       \n",
    "        iCounter += 1 \n",
    "    \n",
    "# Create and fill the dataframe    \n",
    "data = {'HomeID': homeID5M, \\\n",
    "        'Age': age5M, \\\n",
    "        'Gender': gender5M, \\\n",
    "        'HomeRegion': region5M, \\\n",
    "        'JobStatus': jobStatus5M, \\\n",
    "        'JobLocation': jobLocation5M, \\\n",
    "        'TimeToWork': timeToWork5M, \\\n",
    "        'HomeOccupancy': homeOccupancy5M }\n",
    "\n",
    "        \n",
    "dfWorld5M = pd.DataFrame(data)\n",
    "dfWorld5M = dfWorld5M.sort_values(by=['HomeRegion'], ignore_index = True)"
   ]
  },
  {
   "cell_type": "markdown",
   "metadata": {
    "tags": []
   },
   "source": [
    "#### Recreate arrays"
   ]
  },
  {
   "cell_type": "code",
   "execution_count": 11,
   "metadata": {},
   "outputs": [
    {
     "name": "stdout",
     "output_type": "stream",
     "text": [
      "Home ID: [ 896554000 1141519015 1141519016 ...  559287012 1168044014 1488095007]\n",
      "Age: [ 5 51 51 ... 33  4 30]\n",
      "Home region: ['ALTP30_40' 'ALTP30_40' 'ALTP30_40' ... 'VAOR>40' 'VAOR>40' 'VAOR>40']\n",
      "Gender: [6 6 6 ... 1 1 1]\n",
      "Job status: [-1  1  1 ...  1 -1  2]\n",
      "Job location: [ 3  3  3 ...  4  4 -1]\n",
      "Time to work: [ 2  3  3 ...  2  1 -1]\n",
      "Home occupancy: [4 3 3 ... 2 3 4]\n"
     ]
    }
   ],
   "source": [
    "homeID5M = dfWorld5M['HomeID'].to_numpy()\n",
    "age5M = dfWorld5M['Age'].to_numpy()\n",
    "region5M = dfWorld5M['HomeRegion'].to_numpy()\n",
    "gender5M = dfWorld5M['Gender'].to_numpy()\n",
    "jobStatus5M = dfWorld5M['JobStatus'].to_numpy()\n",
    "jobLocation5M = dfWorld5M['JobLocation'].to_numpy()\n",
    "\n",
    "timeToWork5M = dfWorld5M['TimeToWork'].to_numpy()\n",
    "\n",
    "homeOccupancy5M = dfWorld5M['HomeOccupancy'].to_numpy()\n",
    "\n",
    "print('Home ID:', homeID5M)\n",
    "print('Age:', age5M)\n",
    "print('Home region:', region5M)\n",
    "print('Gender:', gender5M)\n",
    "print('Job status:', jobStatus5M)\n",
    "print('Job location:', jobLocation5M)\n",
    "print('Time to work:', timeToWork5M)\n",
    "print('Home occupancy:', homeOccupancy5M)"
   ]
  },
  {
   "cell_type": "markdown",
   "metadata": {},
   "source": [
    "#### Create list of regions"
   ]
  },
  {
   "cell_type": "code",
   "execution_count": 12,
   "metadata": {},
   "outputs": [
    {
     "name": "stdout",
     "output_type": "stream",
     "text": [
      "There are 83 regions:\n",
      "\n",
      "ALTP30_40      72309\n",
      "ALTP>40        25692\n",
      "ANOIA30_40     29429\n",
      "ANOIA>40       88592\n",
      "BAG30_40       22174\n",
      "               ...  \n",
      "VAOR10_15      21748\n",
      "VAOR15_20     103441\n",
      "VAOR20_25      25945\n",
      "VAOR25_30     109488\n",
      "VAOR>40        41054\n",
      "Name: HomeRegion, Length: 83, dtype: int64\n"
     ]
    }
   ],
   "source": [
    "regionsList = dfWorld5M['HomeRegion'].unique()\n",
    "nRegions = len(regionsList)\n",
    "print('There are', nRegions, 'regions:\\n')\n",
    "\n",
    "peoplePerRegion = dfWorld5M['HomeRegion'].value_counts()[regionsList]\n",
    "print(peoplePerRegion)"
   ]
  },
  {
   "cell_type": "markdown",
   "metadata": {
    "tags": []
   },
   "source": [
    "#### Worker's world"
   ]
  },
  {
   "cell_type": "markdown",
   "metadata": {},
   "source": [
    "##### Count workers"
   ]
  },
  {
   "cell_type": "code",
   "execution_count": 13,
   "metadata": {},
   "outputs": [
    {
     "name": "stdout",
     "output_type": "stream",
     "text": [
      "The working crew are 2247353 people\n",
      "People that not work are 3240507\n",
      "% of workers is 0.41\n"
     ]
    }
   ],
   "source": [
    "filterWork = dfWorld5M['JobStatus'] == 1\n",
    "workersRegion5M = dfWorld5M['HomeRegion'].where(filterWork).value_counts()[regionsList]\n",
    "print('The working crew are', workersRegion5M.sum(), 'people')\n",
    "noworkers = len(dfWorld5M) - workersRegion5M.sum()\n",
    "print('People that not work are', noworkers)\n",
    "print('% of workers is {:.2f}'.format(workersRegion5M.sum()/len(dfWorld5M)))"
   ]
  },
  {
   "cell_type": "markdown",
   "metadata": {},
   "source": [
    "##### Create BCN neighborhoods and 'Comarques' lists"
   ]
  },
  {
   "cell_type": "code",
   "execution_count": 14,
   "metadata": {},
   "outputs": [
    {
     "name": "stdout",
     "output_type": "stream",
     "text": [
      "The 51 BCN neighborhoods are: \n",
      "\n",
      "['BCN_Canyelles, les Roquetes'\n",
      " 'BCN_Diagonal i el Front Marítim del Poblenou, Provençals de Poblenou'\n",
      " 'BCN_Hostafrancs, la Bordeta' 'BCN_Les Corts' 'BCN_Porta'\n",
      " 'BCN_Sant Andreu (Est)' 'BCN_Sant Andreu (Oest)' 'BCN_Sant Antoni'\n",
      " 'BCN_Sant Gervasi-Galvany' 'BCN_Sant Martí de Provençals'\n",
      " 'BCN_Sant Pere, Santa Caterina i la Ribera' 'BCN_Sants'\n",
      " 'BCN_Sants - Badal' 'BCN_Vallcarca i els Penitents, el Coll, la Salut'\n",
      " 'BCN_Vallvidrera, el Tibidabo i les Planes, Sarrià'\n",
      " 'BCN_Verdun, la Prosperitat' 'BCN_Vilapicina i la Torre Llobeta'\n",
      " 'BCN_el Baix Guinardó, Can Baró' 'BCN_el Barri Gòtic'\n",
      " 'BCN_el Besòs i el Maresme' \"BCN_el Camp d'en Grassot i Gràcia Nova\"\n",
      " \"BCN_el Camp de l'Arpa del Clot\" 'BCN_el Carmel' 'BCN_el Clot'\n",
      " 'BCN_el Congrés i els Indians, Navas' 'BCN_el Fort Pienc'\n",
      " 'BCN_el Guinardó'\n",
      " 'BCN_el Parc i la Llacuna del Poblenou, la Vila Olímpica del Poblenou'\n",
      " 'BCN_el Poble Sec' 'BCN_el Poblenou' 'BCN_el Putxet i el Farró'\n",
      " 'BCN_el Raval (Nord)' 'BCN_el Raval (Sud)'\n",
      " 'BCN_el Turó de la Peira, Can Peguera, la Guineueta'\n",
      " \"BCN_l'Antiga Esquerra de l'Eixample\" 'BCN_la Barceloneta'\n",
      " \"BCN_la Dreta de l'Eixample\" \"BCN_la Font d'en Fargues, Horta\"\n",
      " 'BCN_la Marina del Prat Vermell, la Marina del Port, la Font de la Guatlla'\n",
      " 'BCN_la Maternitat i Sant Ramon, Pedralbes'\n",
      " \"BCN_la Nova Esquerra de l'Eixample (Nord)\"\n",
      " \"BCN_la Nova Esquerra de l'Eixample (Sud)\"\n",
      " 'BCN_la Sagrada Familia (Nord)' 'BCN_la Sagrada Familia (Sud)'\n",
      " 'BCN_la Sagrera'\n",
      " \"BCN_la Teixonera, Sant Genís dels Agudells, Montbau, la Vall d'Hebron, la Clota\"\n",
      " 'BCN_la Trinitat Nova, Torre Baró, Ciutat Meridiana, Vallbona'\n",
      " 'BCN_la Trinitat Vella, Baró de Viver, el Bon Pastor'\n",
      " 'BCN_la Verneda i la Pau' 'BCN_la vila de Gràcia'\n",
      " 'BCN_les Tres Torres, Sant Gervasi - la Bonanova']\n"
     ]
    }
   ],
   "source": [
    "BCNneighborList = dfC2011OldData['BARRIO_BCN'].unique()\n",
    "BCNneighborList = BCNneighborList[BCNneighborList != 'Prov BCN']\n",
    "BCNneighborList = 'BCN_'+ BCNneighborList\n",
    "BCNneighborList = np.sort(BCNneighborList)\n",
    "nBCNneighbor = len(BCNneighborList)\n",
    "print('The', nBCNneighbor, 'BCN neighborhoods are: \\n')\n",
    "print(BCNneighborList)"
   ]
  },
  {
   "cell_type": "code",
   "execution_count": 15,
   "metadata": {},
   "outputs": [
    {
     "name": "stdout",
     "output_type": "stream",
     "text": [
      "The 32 comarques are: \n",
      "\n",
      "['ALTP30_40' 'ALTP>40' 'ANOIA30_40' 'ANOIA>40' 'BAG30_40' 'BAG>40'\n",
      " 'BAIXLL10_15' 'BAIXLL15_20' 'BAIXLL20_25' 'BAIXLL<10' 'BAIXLL_ALTP_25_30'\n",
      " 'BCNES <10' 'BER>65' 'GAR30_40' 'GAR>40' 'MAR10_15' 'MAR15_20' 'MAR20_25'\n",
      " 'MAR25_30' 'MAR30_40' 'MAR>40' 'OSO>40' 'VAOCC10_15' 'VAOCC15_20'\n",
      " 'VAOCC20_25' 'VAOCC25_30' 'VAOCC_OR30_40' 'VAOR10_15' 'VAOR15_20'\n",
      " 'VAOR20_25' 'VAOR25_30' 'VAOR>40']\n"
     ]
    }
   ],
   "source": [
    "comarquesList = muniList[muniList != 'BCN']\n",
    "print('The', len(comarquesList), 'comarques are: \\n')\n",
    "print(comarquesList)"
   ]
  },
  {
   "cell_type": "markdown",
   "metadata": {},
   "source": [
    "##### Create Barcelona city mask / 'Comarques' mask"
   ]
  },
  {
   "cell_type": "code",
   "execution_count": 16,
   "metadata": {},
   "outputs": [],
   "source": [
    "BCNmask = np.isin(region5M, BCNneighborList)\n",
    "comarquesMask = ~BCNmask"
   ]
  },
  {
   "cell_type": "markdown",
   "metadata": {},
   "source": [
    "##### Create job location masks"
   ]
  },
  {
   "cell_type": "code",
   "execution_count": 17,
   "metadata": {
    "tags": []
   },
   "outputs": [],
   "source": [
    "workAtHomeMask  = ((filterWork) & (dfWorld5M['JobLocation'] == 1)).to_numpy()\n",
    "workSeveralMask = ((filterWork) & (dfWorld5M['JobLocation'] == 2)).to_numpy()\n",
    "workOwnMask     = ((filterWork) & (dfWorld5M['JobLocation'] == 3)).to_numpy()\n",
    "workAnotherMask = ((filterWork) & (dfWorld5M['JobLocation'] == 4)).to_numpy()\n",
    "workAbroadMask  = ((filterWork) & (dfWorld5M['JobLocation'] == 5)).to_numpy()"
   ]
  },
  {
   "cell_type": "markdown",
   "metadata": {
    "tags": []
   },
   "source": [
    "##### Create time to work mask"
   ]
  },
  {
   "cell_type": "code",
   "execution_count": 18,
   "metadata": {},
   "outputs": [],
   "source": [
    "timeToWork20minMask     = ( (filterWork) & \\\n",
    "                            ((dfWorld5M['TimeToWork'] == 1) | (dfWorld5M['TimeToWork'] == 2)) ).to_numpy()\n",
    "timeToWork20to45minMask = ( (filterWork) & \\\n",
    "                            ((dfWorld5M['TimeToWork'] == 3) | (dfWorld5M['TimeToWork'] == 4)) ).to_numpy()\n",
    "timeToWork45minMask     = ( (filterWork) & (dfWorld5M['TimeToWork'] >= 5) ).to_numpy()\n",
    "timeToWorkUnknownMask   = ( (filterWork) & (dfWorld5M['TimeToWork'] == -1) ).to_numpy()"
   ]
  },
  {
   "cell_type": "markdown",
   "metadata": {},
   "source": [
    "##### Create array with working regions for all the population (use sendOutside function to send workers to workplace (function from *Functions.py*))"
   ]
  },
  {
   "cell_type": "code",
   "execution_count": 19,
   "metadata": {},
   "outputs": [
    {
     "name": "stdout",
     "output_type": "stream",
     "text": [
      "seed =  42032\n",
      "175293 go to work / school outside own region\n",
      "2105 wrongly assigned outside regions will be fixed\n",
      "7278 go to work / school outside own region\n",
      "88 wrongly assigned outside regions will be fixed\n"
     ]
    }
   ],
   "source": [
    "workRegion5M = np.full((numPeople5M), 'Nowhere', dtype = object)\n",
    "\n",
    "######\n",
    "###### People working at home do so in their home region ######\n",
    "######\n",
    "workRegion5M[workAtHomeMask] = region5M[workAtHomeMask] \n",
    "\n",
    "\n",
    "######\n",
    "###### People working in several municipalities ######\n",
    "######\n",
    "#      In Barcelona: work in comarques\n",
    "nToComarques = (workSeveralMask & BCNmask).sum() \n",
    "print('seed = ', nToComarques)\n",
    "np.random.seed(seed = nToComarques)\n",
    "workRegion5M[workSeveralMask & BCNmask] = np.random.choice(comarquesList, nToComarques)\n",
    "\n",
    "#      In comarques: work in own region if time to work less than 45'\n",
    "workRegion5M[workSeveralMask & comarquesMask & ~timeToWork45minMask] = \\\n",
    "    region5M[workSeveralMask & comarquesMask & ~timeToWork45minMask] \n",
    "\n",
    "#workRegion5M[workSeveralMask & comarquesMask & timeToWork45minMask] = 'No one takes more than 45''\n",
    "\n",
    "\n",
    "######ad\n",
    "###### People working in own municipality ###### \n",
    "######\n",
    "#      In Barcelona: work in own region (barri) if time to work less than 20'or unknown\n",
    "workRegion5M[workOwnMask & BCNmask & timeToWorkUnknownMask] = \\\n",
    "    region5M[workOwnMask & BCNmask & timeToWorkUnknownMask]\n",
    "\n",
    "workRegion5M[workOwnMask & BCNmask & timeToWork20minMask] = \\\n",
    "    region5M[workOwnMask & BCNmask & timeToWork20minMask]\n",
    "\n",
    "#      In Barcelona: work in Barcelonès (but not own region (barri)) if time to work larger than 20'\n",
    "nInsideBCN = (workOwnMask & BCNmask & ~timeToWork20minMask).sum()\n",
    "np.random.seed(seed = nInsideBCN)\n",
    "workRegion5M[workOwnMask & BCNmask & ~timeToWork20minMask] = np.random.choice(BCNneighborList, nInsideBCN)\n",
    "\n",
    "#      In comarques: work in own region:\n",
    "workRegion5M[workOwnMask & comarquesMask] = region5M[workOwnMask & comarquesMask] \n",
    "\n",
    "\n",
    "######\n",
    "###### People working in another municipality ######\n",
    "######\n",
    "#      In Barcelona: work in comarques\n",
    "nToComarques = (workAnotherMask & BCNmask).sum()\n",
    "np.random.seed(seed = nToComarques)\n",
    "workRegion5M[workAnotherMask & BCNmask] = np.random.choice(comarquesList, nToComarques)\n",
    "\n",
    "#      In comarques: work in own region if time to work less than 45' and in another otherwise\n",
    "workRegion5M[workAnotherMask & comarquesMask & ~timeToWork45minMask] = \\\n",
    "    region5M[workAnotherMask & comarquesMask & ~timeToWork45minMask] \n",
    "\n",
    "workRegion5M[workAnotherMask & comarquesMask & timeToWork45minMask] = sendOutside(regionsList, region5M, workRegion5M, workAnotherMask & comarquesMask & timeToWork45minMask)\n",
    "\n",
    "######\n",
    "###### People working abroad do so in another region ######\n",
    "######\n",
    "workRegion5M[workAbroadMask] = sendOutside(regionsList, region5M, workRegion5M, workAbroadMask)\n",
    "\n",
    "dfWorld5M['WorkRegion'] = workRegion5M"
   ]
  },
  {
   "cell_type": "markdown",
   "metadata": {
    "tags": []
   },
   "source": [
    "##### Count how many workers and job positions are per region"
   ]
  },
  {
   "cell_type": "code",
   "execution_count": 20,
   "metadata": {
    "tags": []
   },
   "outputs": [
    {
     "name": "stdout",
     "output_type": "stream",
     "text": [
      "3240507 people do not work\n",
      "\n",
      "In ALTP30_40 live 72309 of which 30787 work, and there are 35427 job positions\n",
      "In ALTP>40 live 25692 of which 10336 work, and there are 16871 job positions\n",
      "In ANOIA30_40 live 29429 of which 12097 work, and there are 17873 job positions\n",
      "In ANOIA>40 live 88592 of which 33398 work, and there are 37940 job positions\n",
      "In BAG30_40 live 22174 of which 8716 work, and there are 15023 job positions\n",
      "In BAG>40 live 161985 of which 63474 work, and there are 66702 job positions\n",
      "In BAIXLL10_15 live 253968 of which 104334 work, and there are 101366 job positions\n",
      "In BAIXLL15_20 live 118991 of which 51005 work, and there are 52996 job positions\n",
      "In BAIXLL20_25 live 111045 of which 49020 work, and there are 50099 job positions\n",
      "In BAIXLL<10 live 242777 of which 97680 work, and there are 96123 job positions\n",
      "In BAIXLL_ALTP_25_30 live 74370 of which 31044 work, and there are 35659 job positions\n",
      "In BCNES <10 live 627672 of which 237535 work, and there are 212842 job positions\n",
      "In BCN_Canyelles, les Roquetes live 20748 of which 7595 work, and there are 9490 job positions\n",
      "In BCN_Diagonal i el Front Marítim del Poblenou, Provençals de Poblenou live 33018 of which 15405 work, and there are 12162 job positions\n",
      "In BCN_Hostafrancs, la Bordeta live 34130 of which 15321 work, and there are 12053 job positions\n",
      "In BCN_Les Corts live 46844 of which 20348 work, and there are 15338 job positions\n",
      "In BCN_Porta live 25265 of which 9305 work, and there are 10057 job positions\n",
      "In BCN_Sant Andreu (Est) live 24169 of which 11160 work, and there are 10016 job positions\n",
      "In BCN_Sant Andreu (Oest) live 34272 of which 15195 work, and there are 11516 job positions\n",
      "In BCN_Sant Antoni live 37735 of which 16860 work, and there are 13829 job positions\n",
      "In BCN_Sant Gervasi-Galvany live 43750 of which 18949 work, and there are 16959 job positions\n",
      "In BCN_Sant Martí de Provençals live 25758 of which 10540 work, and there are 10424 job positions\n",
      "In BCN_Sant Pere, Santa Caterina i la Ribera live 22348 of which 9324 work, and there are 11282 job positions\n",
      "In BCN_Sants live 44691 of which 19473 work, and there are 13924 job positions\n",
      "In BCN_Sants - Badal live 24277 of which 10519 work, and there are 10634 job positions\n",
      "In BCN_Vallcarca i els Penitents, el Coll, la Salut live 36176 of which 15638 work, and there are 12969 job positions\n",
      "In BCN_Vallvidrera, el Tibidabo i les Planes, Sarrià live 27762 of which 12046 work, and there are 12847 job positions\n",
      "In BCN_Verdun, la Prosperitat live 40707 of which 14825 work, and there are 11031 job positions\n",
      "In BCN_Vilapicina i la Torre Llobeta live 26544 of which 11345 work, and there are 10267 job positions\n",
      "In BCN_el Baix Guinardó, Can Baró live 36252 of which 14725 work, and there are 12531 job positions\n",
      "In BCN_el Barri Gòtic live 17566 of which 9552 work, and there are 11801 job positions\n",
      "In BCN_el Besòs i el Maresme live 19988 of which 6422 work, and there are 9314 job positions\n",
      "In BCN_el Camp d'en Grassot i Gràcia Nova live 34582 of which 15207 work, and there are 13124 job positions\n",
      "In BCN_el Camp de l'Arpa del Clot live 38602 of which 15862 work, and there are 12508 job positions\n",
      "In BCN_el Carmel live 30183 of which 11730 work, and there are 10686 job positions\n",
      "In BCN_el Clot live 28550 of which 12007 work, and there are 10982 job positions\n",
      "In BCN_el Congrés i els Indians, Navas live 37642 of which 16039 work, and there are 12244 job positions\n",
      "In BCN_el Fort Pienc live 30706 of which 13368 work, and there are 12784 job positions\n",
      "In BCN_el Guinardó live 35853 of which 15167 work, and there are 12180 job positions\n",
      "In BCN_el Parc i la Llacuna del Poblenou, la Vila Olímpica del Poblenou live 23576 of which 11013 work, and there are 11270 job positions\n",
      "In BCN_el Poble Sec live 37541 of which 15174 work, and there are 13017 job positions\n",
      "In BCN_el Poblenou live 33263 of which 14879 work, and there are 12286 job positions\n",
      "In BCN_el Putxet i el Farró live 30337 of which 13925 work, and there are 13171 job positions\n",
      "In BCN_el Raval (Nord) live 21234 of which 9834 work, and there are 11797 job positions\n",
      "In BCN_el Raval (Sud) live 22079 of which 8816 work, and there are 11971 job positions\n",
      "In BCN_el Turó de la Peira, Can Peguera, la Guineueta live 34687 of which 12124 work, and there are 10710 job positions\n",
      "In BCN_l'Antiga Esquerra de l'Eixample live 39422 of which 17838 work, and there are 16109 job positions\n",
      "In BCN_la Barceloneta live 17928 of which 7141 work, and there are 10249 job positions\n",
      "In BCN_la Dreta de l'Eixample live 41540 of which 19146 work, and there are 16644 job positions\n",
      "In BCN_la Font d'en Fargues, Horta live 36028 of which 15498 work, and there are 11938 job positions\n",
      "In BCN_la Marina del Prat Vermell, la Marina del Port, la Font de la Guatlla live 41664 of which 17630 work, and there are 13104 job positions\n",
      "In BCN_la Maternitat i Sant Ramon, Pedralbes live 33837 of which 13852 work, and there are 12856 job positions\n",
      "In BCN_la Nova Esquerra de l'Eixample (Nord) live 29198 of which 13443 work, and there are 12797 job positions\n",
      "In BCN_la Nova Esquerra de l'Eixample (Sud) live 32287 of which 14890 work, and there are 13948 job positions\n",
      "In BCN_la Sagrada Familia (Nord) live 22534 of which 9778 work, and there are 11121 job positions\n",
      "In BCN_la Sagrada Familia (Sud) live 29771 of which 13148 work, and there are 12053 job positions\n",
      "In BCN_la Sagrera live 28983 of which 12104 work, and there are 10598 job positions\n",
      "In BCN_la Teixonera, Sant Genís dels Agudells, Montbau, la Vall d'Hebron, la Clota live 29230 of which 11433 work, and there are 10689 job positions\n",
      "In BCN_la Trinitat Nova, Torre Baró, Ciutat Meridiana, Vallbona live 18454 of which 6511 work, and there are 8703 job positions\n",
      "In BCN_la Trinitat Vella, Baró de Viver, el Bon Pastor live 21213 of which 7709 work, and there are 9428 job positions\n",
      "In BCN_la Verneda i la Pau live 28426 of which 10853 work, and there are 10290 job positions\n",
      "In BCN_la vila de Gràcia live 49576 of which 22613 work, and there are 16466 job positions\n",
      "In BCN_les Tres Torres, Sant Gervasi - la Bonanova live 41116 of which 18180 work, and there are 16649 job positions\n",
      "In BER>65 live 40292 of which 15342 work, and there are 21637 job positions\n",
      "In GAR30_40 live 64702 of which 27433 work, and there are 29234 job positions\n",
      "In GAR>40 live 79947 of which 32691 work, and there are 33684 job positions\n",
      "In MAR10_15 live 28159 of which 12898 work, and there are 18640 job positions\n",
      "In MAR15_20 live 66158 of which 27644 work, and there are 30060 job positions\n",
      "In MAR20_25 live 40793 of which 17184 work, and there are 21581 job positions\n",
      "In MAR25_30 live 134370 of which 50197 work, and there are 52173 job positions\n",
      "In MAR30_40 live 46859 of which 19506 work, and there are 23540 job positions\n",
      "In MAR>40 live 115155 of which 42068 work, and there are 43801 job positions\n",
      "In OSO>40 live 151652 of which 61630 work, and there are 65312 job positions\n",
      "In VAOCC10_15 live 258591 of which 111550 work, and there are 105344 job positions\n",
      "In VAOCC15_20 live 344845 of which 137990 work, and there are 131608 job positions\n",
      "In VAOCC20_25 live 238001 of which 94509 work, and there are 91803 job positions\n",
      "In VAOCC25_30 live 39125 of which 16532 work, and there are 22427 job positions\n",
      "In VAOCC_OR30_40 live 106489 of which 46488 work, and there are 47690 job positions\n",
      "In VAOR10_15 live 21748 of which 8840 work, and there are 15701 job positions\n",
      "In VAOR15_20 live 103441 of which 41445 work, and there are 45210 job positions\n",
      "In VAOR20_25 live 25945 of which 10703 work, and there are 17581 job positions\n",
      "In VAOR25_30 live 109488 of which 45007 work, and there are 48608 job positions\n",
      "In VAOR>40 live 41054 of which 16811 work, and there are 21982 job positions\n",
      "\n",
      " The number of job positions is 2247353\n"
     ]
    }
   ],
   "source": [
    "occurrences = np.count_nonzero(workRegion5M == 'Nowhere')\n",
    "print(occurrences, 'people do not work\\n')\n",
    "\n",
    "jobPositions = np.zeros(nRegions, dtype = int)\n",
    "\n",
    "for iRegion, region in enumerate(regionsList):  \n",
    "    jobPositions[iRegion] = np.count_nonzero(workRegion5M == region)  \n",
    "    print('In', region, 'live', peoplePerRegion[iRegion], 'of which', workersRegion5M[iRegion],'work, and there are', \\\n",
    "            jobPositions[iRegion], 'job positions')\n",
    "\n",
    "print('\\n The number of job positions is', jobPositions.sum())"
   ]
  },
  {
   "cell_type": "markdown",
   "metadata": {
    "tags": []
   },
   "source": [
    "##### Assign workers to work places"
   ]
  },
  {
   "cell_type": "code",
   "execution_count": 21,
   "metadata": {
    "tags": []
   },
   "outputs": [
    {
     "name": "stdout",
     "output_type": "stream",
     "text": [
      "ALTP30_40 3545\n",
      "ALTP>40 5242\n",
      "ANOIA30_40 7039\n",
      "ANOIA>40 10854\n",
      "BAG30_40 12357\n",
      "BAG>40 18998\n",
      "BAIXLL10_15 29141\n",
      "BAIXLL15_20 34444\n",
      "BAIXLL20_25 39467\n",
      "BAIXLL<10 49104\n",
      "BAIXLL_ALTP_25_30 52706\n",
      "BCNES <10 73988\n",
      "BCN_Canyelles, les Roquetes 74931\n",
      "BCN_Diagonal i el Front Marítim del Poblenou, Provençals de Poblenou 76136\n",
      "BCN_Hostafrancs, la Bordeta 77345\n",
      "BCN_Les Corts 78885\n",
      "BCN_Porta 79901\n",
      "BCN_Sant Andreu (Est) 80913\n",
      "BCN_Sant Andreu (Oest) 82079\n",
      "BCN_Sant Antoni 83463\n",
      "BCN_Sant Gervasi-Galvany 85141\n",
      "BCN_Sant Martí de Provençals 86175\n",
      "BCN_Sant Pere, Santa Caterina i la Ribera 87311\n",
      "BCN_Sants 88688\n",
      "BCN_Sants - Badal 89750\n",
      "BCN_Vallcarca i els Penitents, el Coll, la Salut 91057\n",
      "BCN_Vallvidrera, el Tibidabo i les Planes, Sarrià 92341\n",
      "BCN_Verdun, la Prosperitat 93440\n",
      "BCN_Vilapicina i la Torre Llobeta 94443\n",
      "BCN_el Baix Guinardó, Can Baró 95713\n",
      "BCN_el Barri Gòtic 96877\n",
      "BCN_el Besòs i el Maresme 97803\n",
      "BCN_el Camp d'en Grassot i Gràcia Nova 99133\n",
      "BCN_el Camp de l'Arpa del Clot 100370\n",
      "BCN_el Carmel 101443\n",
      "BCN_el Clot 102538\n",
      "BCN_el Congrés i els Indians, Navas 103754\n",
      "BCN_el Fort Pienc 105027\n",
      "BCN_el Guinardó 106246\n",
      "BCN_el Parc i la Llacuna del Poblenou, la Vila Olímpica del Poblenou 107355\n",
      "BCN_el Poble Sec 108647\n",
      "BCN_el Poblenou 109894\n",
      "BCN_el Putxet i el Farró 111227\n",
      "BCN_el Raval (Nord) 112390\n",
      "BCN_el Raval (Sud) 113599\n",
      "BCN_el Turó de la Peira, Can Peguera, la Guineueta 114670\n",
      "BCN_l'Antiga Esquerra de l'Eixample 116261\n",
      "BCN_la Barceloneta 117315\n",
      "BCN_la Dreta de l'Eixample 118967\n",
      "BCN_la Font d'en Fargues, Horta 120160\n",
      "BCN_la Marina del Prat Vermell, la Marina del Port, la Font de la Guatlla 121470\n",
      "BCN_la Maternitat i Sant Ramon, Pedralbes 122742\n",
      "BCN_la Nova Esquerra de l'Eixample (Nord) 124013\n",
      "BCN_la Nova Esquerra de l'Eixample (Sud) 125424\n",
      "BCN_la Sagrada Familia (Nord) 126521\n",
      "BCN_la Sagrada Familia (Sud) 127733\n",
      "BCN_la Sagrera 128791\n",
      "BCN_la Teixonera, Sant Genís dels Agudells, Montbau, la Vall d'Hebron, la Clota 129856\n",
      "BCN_la Trinitat Nova, Torre Baró, Ciutat Meridiana, Vallbona 130732\n",
      "BCN_la Trinitat Vella, Baró de Viver, el Bon Pastor 131671\n",
      "BCN_la Verneda i la Pau 132710\n",
      "BCN_la vila de Gràcia 134338\n",
      "BCN_les Tres Torres, Sant Gervasi - la Bonanova 136011\n",
      "BER>65 138173\n",
      "GAR30_40 141101\n",
      "GAR>40 144490\n",
      "MAR10_15 146357\n",
      "MAR15_20 149354\n",
      "MAR20_25 151491\n",
      "MAR25_30 156703\n",
      "MAR30_40 159043\n",
      "MAR>40 163386\n",
      "OSO>40 169926\n",
      "VAOCC10_15 180448\n",
      "VAOCC15_20 193579\n",
      "VAOCC20_25 202757\n",
      "VAOCC25_30 205002\n",
      "VAOCC_OR30_40 209744\n",
      "VAOR10_15 211319\n",
      "VAOR15_20 215839\n",
      "VAOR20_25 217592\n",
      "VAOR25_30 222480\n",
      "VAOR>40 224691\n"
     ]
    }
   ],
   "source": [
    "averageSize = np.ones(nRegions) * 10\n",
    "\n",
    "companyID = np.zeros(numPeople5M, dtype = int)\n",
    "\n",
    "iCompany = 1 \n",
    "\n",
    "for iRegion, region in enumerate(regionsList):\n",
    "\n",
    "    # Get IDs of workers of a region and randomize them\n",
    "    # jobsID = dfWorld5M.where(dfWorld5M['WorkRegion'] == region).dropna().index.to_numpy(dtype = int)\n",
    "    jobsID = dfWorld5M.WorkRegion == region\n",
    "    jobsID = np.where(jobsID)[0]\n",
    "    random.seed(iRegion * 5)\n",
    "    random.shuffle(jobsID)\n",
    "\n",
    "    # Generate size of work places according to Poisson distribution\n",
    "    np.random.seed(seed = iRegion * 10)\n",
    "    jobSize = np.random.poisson(averageSize[iRegion], 100000)    # Generate 1arge (100000) array of company sizes     \n",
    "    cumJobs = np.cumsum(jobSize)                                 # Accumulate sizes\n",
    "    trunc = np.argmax(cumJobs > len(jobsID))                     # Get the array position with more jobs than needed\n",
    "\n",
    "    jobSizeTrunc =  jobSize[:trunc - 1]\n",
    "    jobSizeTrunc = np.append(jobSizeTrunc, len(jobsID) - sum(jobSizeTrunc))  # Exact array of company sizes needed\n",
    "\n",
    "    companyID[jobsID] =  np.repeat(np.arange(iCompany, iCompany + len(jobSizeTrunc)), jobSizeTrunc)\n",
    "    iCompany = iCompany + len(jobSizeTrunc)\n",
    "    print(region, iCompany)\n",
    "\n",
    "dfWorld5M['companyID'] = companyID    \n"
   ]
  },
  {
   "cell_type": "markdown",
   "metadata": {},
   "source": [
    "#### Schools' world"
   ]
  },
  {
   "cell_type": "markdown",
   "metadata": {
    "tags": []
   },
   "source": [
    "##### Count students and see how many attend school in own region and other regions"
   ]
  },
  {
   "cell_type": "code",
   "execution_count": 22,
   "metadata": {},
   "outputs": [
    {
     "name": "stdout",
     "output_type": "stream",
     "text": [
      "The schoolers crew is 953019 kids\n"
     ]
    }
   ],
   "source": [
    "filterSchool = (dfWorld5M['Age'] <= 18) & (dfWorld5M['JobStatus'] != 1) & (dfWorld5M['JobLocation'] != 1)\n",
    "schoolersRegion5M = dfWorld5M['HomeRegion'].where(filterSchool).value_counts()[regionsList]\n",
    "print('The schoolers crew is', schoolersRegion5M.sum(), 'kids')"
   ]
  },
  {
   "cell_type": "markdown",
   "metadata": {},
   "source": [
    "###### Create school in same region and other region masks"
   ]
  },
  {
   "cell_type": "code",
   "execution_count": 23,
   "metadata": {},
   "outputs": [
    {
     "name": "stdout",
     "output_type": "stream",
     "text": [
      "899044 kids study in own region\n",
      "53975 go to work / school outside own region\n",
      "621 wrongly assigned outside regions will be fixed\n"
     ]
    }
   ],
   "source": [
    "schoolRegion5M = np.full((numPeople5M), 'Nowhere', dtype = object)\n",
    "\n",
    "schoolInRegionMask  = filterSchool & (dfWorld5M['TimeToWork'] <= 3)\n",
    "\n",
    "print(schoolInRegionMask.sum(), 'kids study in own region')\n",
    "\n",
    "schoolRegion5M[schoolInRegionMask] = region5M[schoolInRegionMask]\n",
    "\n",
    "schoolOutRegionMask  = filterSchool & (dfWorld5M['TimeToWork'] > 3)\n",
    "\n",
    "schoolRegion5M[schoolOutRegionMask] = sendOutside(regionsList, region5M, schoolRegion5M, schoolOutRegionMask)\n",
    "\n",
    "dfWorld5M['SchoolRegion'] = schoolRegion5M"
   ]
  },
  {
   "cell_type": "markdown",
   "metadata": {},
   "source": [
    "##### Count students and school places per region"
   ]
  },
  {
   "cell_type": "code",
   "execution_count": 24,
   "metadata": {
    "tags": []
   },
   "outputs": [
    {
     "name": "stdout",
     "output_type": "stream",
     "text": [
      "4534841 people do not go to school\n",
      "\n",
      "In ALTP30_40 live 72309 of which 13654 go to school, and there are 13692 school places\n",
      "In ALTP>40 live 25692 of which 4895 go to school, and there are 5176 school places\n",
      "In ANOIA30_40 live 29429 of which 6250 go to school, and there are 6515 school places\n",
      "In ANOIA>40 live 88592 of which 16795 go to school, and there are 16752 school places\n",
      "In BAG30_40 live 22174 of which 4058 go to school, and there are 4447 school places\n",
      "In BAG>40 live 161985 of which 28246 go to school, and there are 28082 school places\n",
      "In BAIXLL10_15 live 253968 of which 48292 go to school, and there are 46686 school places\n",
      "In BAIXLL15_20 live 118991 of which 23705 go to school, and there are 22438 school places\n",
      "In BAIXLL20_25 live 111045 of which 22264 go to school, and there are 21146 school places\n",
      "In BAIXLL<10 live 242777 of which 42235 go to school, and there are 41017 school places\n",
      "In BAIXLL_ALTP_25_30 live 74370 of which 15207 go to school, and there are 14851 school places\n",
      "In BCNES <10 live 627672 of which 107224 go to school, and there are 103415 school places\n",
      "In BCN_Canyelles, les Roquetes live 20748 of which 3496 go to school, and there are 3895 school places\n",
      "In BCN_Diagonal i el Front Marítim del Poblenou, Provençals de Poblenou live 33018 of which 5066 go to school, and there are 5212 school places\n",
      "In BCN_Hostafrancs, la Bordeta live 34130 of which 4309 go to school, and there are 4646 school places\n",
      "In BCN_Les Corts live 46844 of which 6251 go to school, and there are 6394 school places\n",
      "In BCN_Porta live 25265 of which 3158 go to school, and there are 3504 school places\n",
      "In BCN_Sant Andreu (Est) live 24169 of which 3784 go to school, and there are 4133 school places\n",
      "In BCN_Sant Andreu (Oest) live 34272 of which 4632 go to school, and there are 4984 school places\n",
      "In BCN_Sant Antoni live 37735 of which 4269 go to school, and there are 4755 school places\n",
      "In BCN_Sant Gervasi-Galvany live 43750 of which 7431 go to school, and there are 7494 school places\n",
      "In BCN_Sant Martí de Provençals live 25758 of which 3399 go to school, and there are 3815 school places\n",
      "In BCN_Sant Pere, Santa Caterina i la Ribera live 22348 of which 2728 go to school, and there are 3198 school places\n",
      "In BCN_Sants live 44691 of which 5802 go to school, and there are 6091 school places\n",
      "In BCN_Sants - Badal live 24277 of which 3086 go to school, and there are 3411 school places\n",
      "In BCN_Vallcarca i els Penitents, el Coll, la Salut live 36176 of which 5150 go to school, and there are 5521 school places\n",
      "In BCN_Vallvidrera, el Tibidabo i les Planes, Sarrià live 27762 of which 5214 go to school, and there are 5607 school places\n",
      "In BCN_Verdun, la Prosperitat live 40707 of which 6179 go to school, and there are 6564 school places\n",
      "In BCN_Vilapicina i la Torre Llobeta live 26544 of which 3584 go to school, and there are 4010 school places\n",
      "In BCN_el Baix Guinardó, Can Baró live 36252 of which 5323 go to school, and there are 5536 school places\n",
      "In BCN_el Barri Gòtic live 17566 of which 1149 go to school, and there are 1798 school places\n",
      "In BCN_el Besòs i el Maresme live 19988 of which 3110 go to school, and there are 3530 school places\n",
      "In BCN_el Camp d'en Grassot i Gràcia Nova live 34582 of which 4298 go to school, and there are 4394 school places\n",
      "In BCN_el Camp de l'Arpa del Clot live 38602 of which 4952 go to school, and there are 5325 school places\n",
      "In BCN_el Carmel live 30183 of which 4320 go to school, and there are 4676 school places\n",
      "In BCN_el Clot live 28550 of which 4191 go to school, and there are 4644 school places\n",
      "In BCN_el Congrés i els Indians, Navas live 37642 of which 5164 go to school, and there are 5446 school places\n",
      "In BCN_el Fort Pienc live 30706 of which 4220 go to school, and there are 4448 school places\n",
      "In BCN_el Guinardó live 35853 of which 4298 go to school, and there are 4683 school places\n",
      "In BCN_el Parc i la Llacuna del Poblenou, la Vila Olímpica del Poblenou live 23576 of which 3724 go to school, and there are 3979 school places\n",
      "In BCN_el Poble Sec live 37541 of which 4972 go to school, and there are 5204 school places\n",
      "In BCN_el Poblenou live 33263 of which 6564 go to school, and there are 6429 school places\n",
      "In BCN_el Putxet i el Farró live 30337 of which 5143 go to school, and there are 5328 school places\n",
      "In BCN_el Raval (Nord) live 21234 of which 2897 go to school, and there are 3454 school places\n",
      "In BCN_el Raval (Sud) live 22079 of which 3406 go to school, and there are 3986 school places\n",
      "In BCN_el Turó de la Peira, Can Peguera, la Guineueta live 34687 of which 5430 go to school, and there are 5816 school places\n",
      "In BCN_l'Antiga Esquerra de l'Eixample live 39422 of which 4901 go to school, and there are 5137 school places\n",
      "In BCN_la Barceloneta live 17928 of which 2358 go to school, and there are 2926 school places\n",
      "In BCN_la Dreta de l'Eixample live 41540 of which 4701 go to school, and there are 4841 school places\n",
      "In BCN_la Font d'en Fargues, Horta live 36028 of which 5334 go to school, and there are 5859 school places\n",
      "In BCN_la Marina del Prat Vermell, la Marina del Port, la Font de la Guatlla live 41664 of which 6522 go to school, and there are 6473 school places\n",
      "In BCN_la Maternitat i Sant Ramon, Pedralbes live 33837 of which 4775 go to school, and there are 5035 school places\n",
      "In BCN_la Nova Esquerra de l'Eixample (Nord) live 29198 of which 3488 go to school, and there are 3907 school places\n",
      "In BCN_la Nova Esquerra de l'Eixample (Sud) live 32287 of which 4141 go to school, and there are 4398 school places\n",
      "In BCN_la Sagrada Familia (Nord) live 22534 of which 3222 go to school, and there are 3603 school places\n",
      "In BCN_la Sagrada Familia (Sud) live 29771 of which 3967 go to school, and there are 4379 school places\n",
      "In BCN_la Sagrera live 28983 of which 3958 go to school, and there are 4378 school places\n",
      "In BCN_la Teixonera, Sant Genís dels Agudells, Montbau, la Vall d'Hebron, la Clota live 29230 of which 4419 go to school, and there are 4769 school places\n",
      "In BCN_la Trinitat Nova, Torre Baró, Ciutat Meridiana, Vallbona live 18454 of which 2922 go to school, and there are 3402 school places\n",
      "In BCN_la Trinitat Vella, Baró de Viver, el Bon Pastor live 21213 of which 3984 go to school, and there are 4469 school places\n",
      "In BCN_la Verneda i la Pau live 28426 of which 3847 go to school, and there are 4220 school places\n",
      "In BCN_la vila de Gràcia live 49576 of which 5854 go to school, and there are 5817 school places\n",
      "In BCN_les Tres Torres, Sant Gervasi - la Bonanova live 41116 of which 8153 go to school, and there are 8406 school places\n",
      "In BER>65 live 40292 of which 5627 go to school, and there are 5966 school places\n",
      "In GAR30_40 live 64702 of which 12345 go to school, and there are 11636 school places\n",
      "In GAR>40 live 79947 of which 14351 go to school, and there are 14133 school places\n",
      "In MAR10_15 live 28159 of which 5298 go to school, and there are 5512 school places\n",
      "In MAR15_20 live 66158 of which 12005 go to school, and there are 11788 school places\n",
      "In MAR20_25 live 40793 of which 8264 go to school, and there are 8405 school places\n",
      "In MAR25_30 live 134370 of which 24946 go to school, and there are 24487 school places\n",
      "In MAR30_40 live 46859 of which 9209 go to school, and there are 9305 school places\n",
      "In MAR>40 live 115155 of which 20489 go to school, and there are 20157 school places\n",
      "In OSO>40 live 151652 of which 28251 go to school, and there are 28047 school places\n",
      "In VAOCC10_15 live 258591 of which 52337 go to school, and there are 48799 school places\n",
      "In VAOCC15_20 live 344845 of which 65383 go to school, and there are 63268 school places\n",
      "In VAOCC20_25 live 238001 of which 46701 go to school, and there are 44968 school places\n",
      "In VAOCC25_30 live 39125 of which 8361 go to school, and there are 8488 school places\n",
      "In VAOCC_OR30_40 live 106489 of which 21476 go to school, and there are 21137 school places\n",
      "In VAOR10_15 live 21748 of which 4230 go to school, and there are 4835 school places\n",
      "In VAOR15_20 live 103441 of which 19565 go to school, and there are 19482 school places\n",
      "In VAOR20_25 live 25945 of which 5568 go to school, and there are 5806 school places\n",
      "In VAOR25_30 live 109488 of which 20579 go to school, and there are 20542 school places\n",
      "In VAOR>40 live 41054 of which 7964 go to school, and there are 8112 school places\n",
      "\n",
      " The number of scholars is 953019 and the number of school places 953019\n"
     ]
    }
   ],
   "source": [
    "occurrences = np.count_nonzero(schoolRegion5M == 'Nowhere')\n",
    "print(occurrences, 'people do not go to school\\n')\n",
    "\n",
    "schoolPlaces = np.zeros(nRegions, dtype = int)\n",
    "\n",
    "for iRegion, region in enumerate(regionsList):  \n",
    "    schoolPlaces[iRegion] = np.count_nonzero(schoolRegion5M == region)  \n",
    "    print('In', region, 'live', peoplePerRegion[iRegion], 'of which', schoolersRegion5M[iRegion],'go to school, and there are', \\\n",
    "            schoolPlaces[iRegion], 'school places')\n",
    "\n",
    "print('\\n The number of scholars is',schoolersRegion5M.sum(), 'and the number of school places', schoolPlaces.sum())"
   ]
  },
  {
   "cell_type": "markdown",
   "metadata": {},
   "source": [
    "##### Assign kids to school"
   ]
  },
  {
   "cell_type": "code",
   "execution_count": 25,
   "metadata": {
    "tags": []
   },
   "outputs": [
    {
     "name": "stdout",
     "output_type": "stream",
     "text": [
      "ALTP30_40 1000699\n",
      "ALTP>40 1000950\n",
      "ANOIA30_40 1001259\n",
      "ANOIA>40 1002078\n",
      "BAG30_40 1002296\n",
      "BAG>40 1003731\n",
      "BAIXLL10_15 1006092\n",
      "BAIXLL15_20 1007192\n",
      "BAIXLL20_25 1008278\n",
      "BAIXLL<10 1010290\n",
      "BAIXLL_ALTP_25_30 1011040\n",
      "BCNES <10 1016197\n",
      "BCN_Canyelles, les Roquetes 1016387\n",
      "BCN_Diagonal i el Front Marítim del Poblenou, Provençals de Poblenou 1016668\n",
      "BCN_Hostafrancs, la Bordeta 1016894\n",
      "BCN_Les Corts 1017208\n",
      "BCN_Porta 1017376\n",
      "BCN_Sant Andreu (Est) 1017576\n",
      "BCN_Sant Andreu (Oest) 1017820\n",
      "BCN_Sant Antoni 1018060\n",
      "BCN_Sant Gervasi-Galvany 1018415\n",
      "BCN_Sant Martí de Provençals 1018609\n",
      "BCN_Sant Pere, Santa Caterina i la Ribera 1018778\n",
      "BCN_Sants 1019075\n",
      "BCN_Sants - Badal 1019236\n",
      "BCN_Vallcarca i els Penitents, el Coll, la Salut 1019496\n",
      "BCN_Vallvidrera, el Tibidabo i les Planes, Sarrià 1019754\n",
      "BCN_Verdun, la Prosperitat 1020071\n",
      "BCN_Vilapicina i la Torre Llobeta 1020268\n",
      "BCN_el Baix Guinardó, Can Baró 1020545\n",
      "BCN_el Barri Gòtic 1020628\n",
      "BCN_el Besòs i el Maresme 1020798\n",
      "BCN_el Camp d'en Grassot i Gràcia Nova 1021013\n",
      "BCN_el Camp de l'Arpa del Clot 1021262\n",
      "BCN_el Carmel 1021478\n",
      "BCN_el Clot 1021709\n",
      "BCN_el Congrés i els Indians, Navas 1021967\n",
      "BCN_el Fort Pienc 1022173\n",
      "BCN_el Guinardó 1022390\n",
      "BCN_el Parc i la Llacuna del Poblenou, la Vila Olímpica del Poblenou 1022584\n",
      "BCN_el Poble Sec 1022834\n",
      "BCN_el Poblenou 1023154\n",
      "BCN_el Putxet i el Farró 1023409\n",
      "BCN_el Raval (Nord) 1023563\n",
      "BCN_el Raval (Sud) 1023772\n",
      "BCN_el Turó de la Peira, Can Peguera, la Guineueta 1024052\n",
      "BCN_l'Antiga Esquerra de l'Eixample 1024307\n",
      "BCN_la Barceloneta 1024438\n",
      "BCN_la Dreta de l'Eixample 1024679\n",
      "BCN_la Font d'en Fargues, Horta 1024963\n",
      "BCN_la Marina del Prat Vermell, la Marina del Port, la Font de la Guatlla 1025265\n",
      "BCN_la Maternitat i Sant Ramon, Pedralbes 1025498\n",
      "BCN_la Nova Esquerra de l'Eixample (Nord) 1025680\n",
      "BCN_la Nova Esquerra de l'Eixample (Sud) 1025890\n",
      "BCN_la Sagrada Familia (Nord) 1026058\n",
      "BCN_la Sagrada Familia (Sud) 1026267\n",
      "BCN_la Sagrera 1026473\n",
      "BCN_la Teixonera, Sant Genís dels Agudells, Montbau, la Vall d'Hebron, la Clota 1026692\n",
      "BCN_la Trinitat Nova, Torre Baró, Ciutat Meridiana, Vallbona 1026858\n",
      "BCN_la Trinitat Vella, Baró de Viver, el Bon Pastor 1027080\n",
      "BCN_la Verneda i la Pau 1027271\n",
      "BCN_la vila de Gràcia 1027567\n",
      "BCN_les Tres Torres, Sant Gervasi - la Bonanova 1027961\n",
      "BER>65 1028255\n",
      "GAR30_40 1028842\n",
      "GAR>40 1029530\n",
      "MAR10_15 1029788\n",
      "MAR15_20 1030358\n",
      "MAR20_25 1030751\n",
      "MAR25_30 1031979\n",
      "MAR30_40 1032423\n",
      "MAR>40 1033436\n",
      "OSO>40 1034825\n",
      "VAOCC10_15 1037308\n",
      "VAOCC15_20 1040487\n",
      "VAOCC20_25 1042743\n",
      "VAOCC25_30 1043146\n",
      "VAOCC_OR30_40 1044211\n",
      "VAOR10_15 1044435\n",
      "VAOR15_20 1045379\n",
      "VAOR20_25 1045655\n",
      "VAOR25_30 1046682\n",
      "VAOR>40 1047078\n"
     ]
    }
   ],
   "source": [
    "# Classrooms' size depends on age\n",
    "size0 =     7  \n",
    "size1 =    12   \n",
    "size2 =    16\n",
    "sizeKind = 22\n",
    "sizeElem = 25\n",
    "sizeRest = 28\n",
    "\n",
    "# Start schools ID at 1000001, so that schools and companies do not get mixed up \n",
    "schoolID = np.zeros(numPeople5M, dtype = int)\n",
    "iSchool = 1000001 \n",
    "\n",
    "for iRegion, region in enumerate(regionsList):    \n",
    "        \n",
    "    # Get IDs of students of this region and randomize ordering  \n",
    "#     filter = ( filterSchool & (dfWorld5M['SchoolRegion'] == region) )\n",
    "\n",
    "# #    print(region, 'has', sum(filter), 'students')\n",
    "    \n",
    "#     kidsID  = dfWorld5M.where(filter).dropna().index.to_numpy(dtype = int)    \n",
    "#     kidsAge = dfWorld5M['Age'].where(filter).dropna().to_numpy(dtype = int)\n",
    "    filterABS = ( filterSchool & (dfWorld5M['SchoolRegion'] == region) )\n",
    "    filter = ( filterSchool & (dfWorld5M['SchoolRegion'] == region) )\n",
    "    kidsID = np.where(filterABS)[0]\n",
    "\n",
    "    kidsAge = dfWorld5M['Age'].where(filter).dropna().to_numpy(dtype = int)\n",
    "    \n",
    "\n",
    "    data = {'ID': kidsID, 'Age': kidsAge}\n",
    "    schoolDf = pd.DataFrame(data)\n",
    "    schoolDf = schoolDf.sample(frac = 1, random_state = 1)  # shuffle\n",
    "    schoolDf = schoolDf.sort_values('Age')   # sort by age\n",
    "\n",
    "    studentsID = schoolDf['ID'].to_numpy(dtype = int)\n",
    "    \n",
    "    # Create array with size of classrooms depending on age (remember that studentsID is ordered by age)\n",
    "    filter0 = (dfWorld5M['Age'] == 0) & (dfWorld5M['SchoolRegion'] == region) & (dfWorld5M['JobLocation'] != 1)     \n",
    "    filter1 = (dfWorld5M['Age'] == 1) & (dfWorld5M['SchoolRegion'] == region) & (dfWorld5M['JobLocation'] != 1)     \n",
    "    filter2 = (dfWorld5M['Age'] == 2) & (dfWorld5M['SchoolRegion'] == region) & (dfWorld5M['JobLocation'] != 1)     \n",
    "    filterKind = (dfWorld5M['Age'] >= 3)  & (dfWorld5M['Age'] <=5) & (dfWorld5M['SchoolRegion'] == region) & \\\n",
    "        (dfWorld5M['JobLocation'] != 1)    \n",
    "    filterElem = (dfWorld5M['Age'] >= 6)  & (dfWorld5M['Age'] <=11) & (dfWorld5M['SchoolRegion'] == region) & \\\n",
    "        (dfWorld5M['JobLocation'] != 1)\n",
    "    filterRest = (dfWorld5M['Age'] >= 12) & (dfWorld5M['Age'] <=18) & (dfWorld5M['SchoolRegion'] == region) & \\\n",
    "        (dfWorld5M['JobStatus'] != 1) & (dfWorld5M['JobLocation'] != 1)   \n",
    "    \n",
    "    kids0    = np.ones( int(len(dfWorld5M[filter0]) / size0), dtype = int) * size0\n",
    "    kids1    = np.ones( int(len(dfWorld5M[filter1]) / size1), dtype = int) * size1\n",
    "    kids2    = np.ones( int(len(dfWorld5M[filter2]) / size2), dtype = int) * size2\n",
    "    kidsKind = np.ones( int(len(dfWorld5M[filterKind]) / sizeKind), dtype = int) * sizeKind\n",
    "    kidsElem = np.ones( int(len(dfWorld5M[filterElem]) / sizeElem), dtype = int) * sizeElem\n",
    "    kidsRes  = np.ones( int(len(dfWorld5M[filterRest]) / sizeRest) + 4, dtype = int) * sizeRest  \n",
    "    # Added four more classrooms to kidsRes to compensate the previous truncations  \n",
    "    \n",
    "    schoolSize = kids0\n",
    "    schoolSize = np.append(schoolSize, kids1)\n",
    "    schoolSize = np.append(schoolSize, kids2)\n",
    "    schoolSize = np.append(schoolSize, kidsKind)\n",
    "    schoolSize = np.append(schoolSize, kidsElem)\n",
    "    schoolSize = np.append(schoolSize, kidsRes) \n",
    "        \n",
    "    \n",
    "    cumSchools = np.cumsum(schoolSize)\n",
    "    trunc = np.argmax(cumSchools > len(studentsID)) # Get the array position with more school seats than needed\n",
    "         \n",
    "    schoolSizeTrunc =  schoolSize[:trunc]    \n",
    "    schoolSizeTrunc = np.append(schoolSizeTrunc, len(studentsID) - sum(schoolSizeTrunc)) # Exact array of classroom \n",
    "                                                                                         # sizes needed\n",
    "        \n",
    "#    print('sum of schoolsizes is', sum(schoolSizeTrunc))    \n",
    "    \n",
    "    schoolID[studentsID] =  np.repeat(np.arange(iSchool, iSchool + len(schoolSizeTrunc)), schoolSizeTrunc)\n",
    "    iSchool = iSchool + len(schoolSizeTrunc)\n",
    "    print(region, iSchool)\n",
    "    \n",
    "dfWorld5M['schoolID'] = schoolID    "
   ]
  },
  {
   "cell_type": "markdown",
   "metadata": {
    "tags": []
   },
   "source": [
    "#### Remove unneeded columns"
   ]
  },
  {
   "cell_type": "code",
   "execution_count": 26,
   "metadata": {},
   "outputs": [],
   "source": [
    "dfWorld5Mplot = dfWorld5M.copy()\n",
    "dfWorld5M.drop('JobStatus',   axis='columns', inplace=True)\n",
    "dfWorld5M.drop('JobLocation', axis='columns', inplace=True)\n",
    "dfWorld5M.drop('TimeToWork',  axis='columns', inplace=True)"
   ]
  },
  {
   "cell_type": "markdown",
   "metadata": {
    "tags": []
   },
   "source": [
    "### Nursing homes file"
   ]
  },
  {
   "cell_type": "code",
   "execution_count": 27,
   "metadata": {},
   "outputs": [
    {
     "name": "stdout",
     "output_type": "stream",
     "text": [
      "There are 39373 people living in nursing homes\n"
     ]
    }
   ],
   "source": [
    "numResidents = len(dfResidencias)\n",
    "print('There are', numResidents, 'people living in nursing homes')"
   ]
  },
  {
   "cell_type": "markdown",
   "metadata": {},
   "source": [
    "#### Fill needed columns"
   ]
  },
  {
   "cell_type": "code",
   "execution_count": 28,
   "metadata": {},
   "outputs": [],
   "source": [
    "dfResidencias['WorkRegion'] = 'Nowhere'\n",
    "dfResidencias['companyID'] = 0\n",
    "dfResidencias['SchoolRegion'] = 'Nowhere'\n",
    "dfResidencias['schoolID'] = 0"
   ]
  },
  {
   "cell_type": "markdown",
   "metadata": {
    "tags": []
   },
   "source": [
    "## Concatenate nursing homes and census data and store data"
   ]
  },
  {
   "cell_type": "code",
   "execution_count": 29,
   "metadata": {},
   "outputs": [],
   "source": [
    "frames = [dfWorld5M, dfResidencias]\n",
    "dfWorld5M = pd.concat(frames, ignore_index = True)\n",
    "\n",
    "dfWorld5M = dfWorld5M.sort_values(by=['HomeRegion'], ignore_index = True)\n",
    "\n",
    "# dfWorld5M.to_csv(\"NewWorldPROVA5.csv\", index_label = False)"
   ]
  },
  {
   "cell_type": "code",
   "execution_count": 30,
   "metadata": {},
   "outputs": [
    {
     "name": "stdout",
     "output_type": "stream",
     "text": [
      "Duration process of creating NewWorld of 12.287865702311198 minutes\n"
     ]
    }
   ],
   "source": [
    "print('Duration process of creating NewWorld of {} minutes'.format((time.time()-START_TIME)/60) ) ## know duration of process"
   ]
  },
  {
   "cell_type": "markdown",
   "metadata": {
    "tags": []
   },
   "source": [
    "## Create plots"
   ]
  },
  {
   "cell_type": "markdown",
   "metadata": {},
   "source": [
    "##### Plot mean size by company in the 5M sample"
   ]
  },
  {
   "cell_type": "code",
   "execution_count": 31,
   "metadata": {},
   "outputs": [
    {
     "name": "stdout",
     "output_type": "stream",
     "text": [
      "The mean size of the companies is 20.245124697285124 \n",
      "\n"
     ]
    },
    {
     "data": {
      "image/png": "[encoded data removed]",
      "text/plain": [
       "<Figure size 432x288 with 1 Axes>"
      ]
     },
     "metadata": {
      "needs_background": "light"
     },
     "output_type": "display_data"
    }
   ],
   "source": [
    "bigCompanyID = dfWorld5Mplot['schoolID'].to_numpy(dtype = int)\n",
    "\n",
    "noZerosBigCompanyID = bigCompanyID[bigCompanyID != 0]\n",
    "\n",
    "bigUniqueID, bigCountsUniqueID = np.unique(noZerosBigCompanyID, return_counts = True)\n",
    "\n",
    "fig, ax = plt.subplots()\n",
    "\n",
    "(n, bins, patches) = plt.hist(bigCountsUniqueID, bins = range(0, 30), log = False, color = 'deepskyblue', rwidth = 0.8)\n",
    "\n",
    "plt.axvline(bigCountsUniqueID.mean(), color = 'k', linestyle = 'dashed', linewidth = 1)\n",
    "\n",
    "ax.set_xlabel('Company size',   labelpad = 3,  weight = 'bold', size = 10)\n",
    "ax.set_ylabel('Number of companies', labelpad = 1,  weight = 'bold', size = 10)\n",
    "\n",
    "print('The mean size of the companies is', bigCountsUniqueID.mean(), '\\n')"
   ]
  },
  {
   "cell_type": "markdown",
   "metadata": {},
   "source": [
    "##### Plot Job status by people in the 5M sample"
   ]
  },
  {
   "cell_type": "code",
   "execution_count": 32,
   "metadata": {},
   "outputs": [
    {
     "data": {
      "text/plain": [
       "Text(4, 1700000, 'From 31 to 65')"
      ]
     },
     "execution_count": 32,
     "metadata": {},
     "output_type": "execute_result"
    },
    {
     "data": {
      "image/png": "[encoded data removed]",
      "text/plain": [
       "<Figure size 432x288 with 1 Axes>"
      ]
     },
     "metadata": {
      "needs_background": "light"
     },
     "output_type": "display_data"
    }
   ],
   "source": [
    "filter = (dfWorld5Mplot['Age'] > 30) & (dfWorld5Mplot['Age'] <= 65)\n",
    "\n",
    "mybins = (1, 2, 3, 4, 5, 6, 7)\n",
    "fig, ax = plt.subplots()\n",
    "\n",
    "myHist = plt.hist(dfWorld5Mplot['JobStatus'].where(filter), rwidth = 0.8, bins = mybins, color = 'turquoise')\n",
    "ax.set_xlabel('Job status',   labelpad = 3,  weight = 'bold', size = 14)\n",
    "ax.set_ylabel('Number of people', labelpad = 2,  weight = 'bold', size = 14)\n",
    "\n",
    "plt.ticklabel_format(axis = 'y', style = 'sci', scilimits = (0,0))\n",
    "\n",
    "plt.text(4, 1700000, 'From 31 to 65', weight = 'bold', size = 14)\n",
    "\n",
    "#fig.savefig('FullJobStatus31-65.pdf')"
   ]
  },
  {
   "cell_type": "markdown",
   "metadata": {},
   "source": [
    "##### Plots of number of workers vs job positions vs workers in own region in the 5M sample"
   ]
  },
  {
   "cell_type": "code",
   "execution_count": 33,
   "metadata": {},
   "outputs": [
    {
     "data": {
      "image/png": "[encoded data removed]",
      "text/plain": [
       "<Figure size 1440x360 with 1 Axes>"
      ]
     },
     "metadata": {
      "needs_background": "light"
     },
     "output_type": "display_data"
    },
    {
     "data": {
      "image/png": "[encoded data removed]",
      "text/plain": [
       "<Figure size 1440x360 with 1 Axes>"
      ]
     },
     "metadata": {
      "needs_background": "light"
     },
     "output_type": "display_data"
    },
    {
     "data": {
      "image/png": "[encoded data removed]",
      "text/plain": [
       "<Figure size 1440x360 with 1 Axes>"
      ]
     },
     "metadata": {
      "needs_background": "light"
     },
     "output_type": "display_data"
    }
   ],
   "source": [
    "import matplotlib.ticker as ticker\n",
    "\n",
    "xvalues = np.array([0, 10, 20, 30, 40, 50, 60, 70, 80])\n",
    "xlabels = np.array(['0', '10', '20', '30', '40', '50', '60', '70', '80'])\n",
    "\n",
    "\n",
    "fig, ax = plt.subplots(figsize=(20, 5))\n",
    "\n",
    "workers   = plt.hist(region5M[workRegion5M != 'Nowhere'], bins = range(0, 85), log = False, color = 'pink', \\\n",
    "                         label = 'Workers', rwidth=0.9)\n",
    "positions = plt.hist(workRegion5M[workRegion5M != 'Nowhere'], bins = range(0, 85), log = False, color = 'maroon', \n",
    "                         histtype='step', label = 'Job positions')\n",
    "\n",
    "ax.legend(fontsize = 'x-large')\n",
    "ax.set_ylim([0, 2.5e5]) \n",
    "ax.set_xlabel('Region',   labelpad = 3,  weight = 'bold', size = 18)\n",
    "ax.set_ylabel('Number of people', labelpad = 1,  weight = 'bold', size = 18)\n",
    "ax.set_xticks(xvalues)\n",
    "ax.set_xticklabels(xlabels, fontsize = 15)\n",
    "ax.tick_params(axis = 'y', labelsize = 15)\n",
    "#fig.savefig('workersAndPositions.pdf')\n",
    "\n",
    "\n",
    "fig, ax = plt.subplots(figsize=(20, 5))\n",
    "\n",
    "workers  = plt.hist(region5M[workRegion5M != 'Nowhere'], bins = range(0, 85), log = False, color = 'turquoise', \\\n",
    "                        label = 'Workers', rwidth=0.9)\n",
    "inRegion = plt.hist(region5M[workRegion5M == region5M], bins = range(0, 85), log = False, color = 'darkslategrey', \\\n",
    "                        histtype='step', label = 'Workers in own region')\n",
    "\n",
    "ax.legend(fontsize = 'x-large')\n",
    "ax.set_ylim([0, 2.5e5]) \n",
    "ax.set_xlabel('Region',   labelpad = 3,  weight = 'bold', size = 18)\n",
    "ax.set_ylabel('Number of people', labelpad = 1,  weight = 'bold', size = 18)\n",
    "ax.set_xticks(xvalues)\n",
    "ax.set_xticklabels(xlabels, fontsize = 15)\n",
    "ax.tick_params(axis = 'y', labelsize = 15)\n",
    "#fig.savefig('workersAndOwnRegion.pdf')\n",
    "\n",
    "\n",
    "#fig, ax = plt.subplots(figsize=(20, 5))\n",
    "\n",
    "inRegion = plt.hist(region5M[workRegion5M == region5M], bins = range(0, 85), log = False, color = 'darkblue', \\\n",
    "                        histtype='step')\n",
    "positions = plt.hist(workRegion5M[workRegion5M != 'Nowhere'], bins = range(0, 85), log = False, \\\n",
    "                         color = 'lightskyblue', label = 'Job positions', rwidth=0.9)\n",
    "inRegion = plt.hist(region5M[workRegion5M == region5M], bins = range(0, 85), log = False, color = 'darkblue', \\\n",
    "                        histtype='step', label = 'Workers in own region')\n",
    "\n",
    "ax.legend(fontsize = 'x-large')\n",
    "ax.set_ylim([0, 2.5e5]) \n",
    "ax.set_xlabel('Region',   labelpad = 3,  weight = 'bold', size = 18)\n",
    "ax.set_ylabel('Number of people', labelpad = 1,  weight = 'bold', size = 18)\n",
    "ax.set_xticks(xvalues)\n",
    "ax.set_xticklabels(xlabels, fontsize = 15)\n",
    "ax.tick_params(axis = 'y', labelsize = 15)\n",
    "#fig.savefig('PositionsAndOwnRegion.pdf')\n",
    "\n",
    "\n",
    "fig, ax = plt.subplots(figsize=(20, 5))\n",
    "\n",
    "workers   = plt.hist(region5M[workRegion5M != 'Nowhere'], bins = range(0, 85), log = False, color = 'thistle', \\\n",
    "                         label = 'Workers', rwidth=0.9)\n",
    "positions = plt.hist(workRegion5M[workRegion5M != 'Nowhere'], bins = range(0, 85), log = False, color = 'purple', \n",
    "                         histtype='step', label = 'Job positions')\n",
    "inRegion = plt.hist(region5M[workRegion5M == region5M], bins = range(0, 85), log = False, color = 'black', \\\n",
    "                        histtype='step', label = 'Workers in own region')\n",
    "\n",
    "ax.legend(fontsize = 'x-large')\n",
    "ax.set_ylim([0, 2.5e5]) \n",
    "ax.set_xlabel('Region',   labelpad = 3,  weight = 'bold', size = 18)\n",
    "ax.set_ylabel('Number of people', labelpad = 1,  weight = 'bold', size = 18)\n",
    "ax.set_xticks(xvalues)\n",
    "ax.set_xticklabels(xlabels, fontsize = 15)\n",
    "ax.tick_params(axis = 'y', labelsize = 15)\n",
    "#fig.savefig('workersPositionsAndOwnRegion.pdf')"
   ]
  },
  {
   "cell_type": "markdown",
   "metadata": {},
   "source": [
    "##### Plot histogram of number of school children by age in the 5M sample"
   ]
  },
  {
   "cell_type": "code",
   "execution_count": 34,
   "metadata": {},
   "outputs": [
    {
     "data": {
      "image/png": "[encoded data removed]",
      "text/plain": [
       "<Figure size 576x432 with 1 Axes>"
      ]
     },
     "metadata": {
      "needs_background": "light"
     },
     "output_type": "display_data"
    }
   ],
   "source": [
    "from matplotlib import rcParams \n",
    "plt.rcParams['pdf.fonttype'] = 42\n",
    "\n",
    "fig, ax = plt.subplots(figsize = (8, 6))   \n",
    "\n",
    "kidsAge = dfWorld5M['Age'].where(dfWorld5M['schoolID']!=0)\n",
    "kidsAgePlot = plt.hist(kidsAge, color = 'skyblue', bins = range(0, 20), rwidth = 0.9)\n",
    "\n",
    "ax.set_ylabel(\"Number of schoolchildren\", labelpad = 6, size = 18)\n",
    "ax.set_xlabel('Age [years]', labelpad = 8, size = 18)\n",
    "ax.tick_params(axis = 'x', size = 6, labelsize = 18)\n",
    "ax.tick_params(axis = 'y', size = 6, labelsize = 18)\n",
    "\n",
    "plt.tight_layout()\n",
    "\n",
    "#fig.savefig('supleSchoolAge.pdf')"
   ]
  },
  {
   "cell_type": "markdown",
   "metadata": {},
   "source": [
    "##### Plot histogram of number of seniors in nursing facilities by age in the 5M sample"
   ]
  },
  {
   "cell_type": "code",
   "execution_count": 35,
   "metadata": {},
   "outputs": [],
   "source": [
    "seniors = dfWorld5M['Age'].where(dfWorld5M['Age'] >= 65) \n",
    "seniorsNursing = dfWorld5M['Age'].where(dfWorld5M['HomeID'] < 1000)\n",
    "seniorsHome = dfWorld5M['Age'].where( (dfWorld5M['Age'] >= 65) & (dfWorld5M['HomeID'] > 1000) ) "
   ]
  },
  {
   "cell_type": "code",
   "execution_count": 36,
   "metadata": {},
   "outputs": [
    {
     "data": {
      "image/png": "[encoded data removed]",
      "text/plain": [
       "<Figure size 576x432 with 1 Axes>"
      ]
     },
     "metadata": {
      "needs_background": "light"
     },
     "output_type": "display_data"
    }
   ],
   "source": [
    "from matplotlib import rcParams \n",
    "plt.rcParams['pdf.fonttype'] = 42\n",
    "\n",
    "fig, ax = plt.subplots(figsize = (8, 6))   \n",
    "\n",
    "mybins = (65, 70, 75, 80, 85, 90, 95, 100, 105, 110, 115, 120)\n",
    "\n",
    "nursingPlot = plt.hist(seniorsNursing, color = 'thistle', bins = mybins, rwidth = 0.9)\n",
    "\n",
    "ax.set_ylabel(\"Seniors in nursing facilities\", labelpad = 6, size = 18)\n",
    "ax.set_xlabel('Age [years]', labelpad = 8, size = 18)\n",
    "ax.tick_params(axis = 'x', size = 6, labelsize = 18)\n",
    "ax.tick_params(axis = 'y', size = 6, labelsize = 18)\n",
    "\n",
    "plt.tight_layout()\n",
    "\n",
    "#fig.savefig('supleSeniorsNursingAge.pdf')"
   ]
  },
  {
   "cell_type": "markdown",
   "metadata": {},
   "source": [
    "##### Plot histogram of seniors in family dwellings by age in the 5M sample"
   ]
  },
  {
   "cell_type": "code",
   "execution_count": 37,
   "metadata": {},
   "outputs": [
    {
     "data": {
      "image/png": "[encoded data removed]",
      "text/plain": [
       "<Figure size 576x432 with 1 Axes>"
      ]
     },
     "metadata": {
      "needs_background": "light"
     },
     "output_type": "display_data"
    }
   ],
   "source": [
    "from matplotlib import rcParams \n",
    "plt.rcParams['pdf.fonttype'] = 42\n",
    "\n",
    "fig, ax = plt.subplots(figsize = (8, 6))   \n",
    "\n",
    "mybins = (65, 70, 75, 80, 85, 90, 95, 100, 105, 110, 115, 120)\n",
    "\n",
    "seniorsHomePlot = plt.hist(seniorsHome, color = 'mediumpurple', bins = mybins, rwidth = 0.9)\n",
    "\n",
    "ax.set_ylabel(\"Seniors in family dwellings\", labelpad = 6, size = 18)\n",
    "ax.set_xlabel('Age [years]', labelpad = 8, size = 18)\n",
    "ax.tick_params(axis = 'x', size = 6, labelsize = 18)\n",
    "ax.tick_params(axis = 'y', size = 6, labelsize = 18)\n",
    "\n",
    "plt.tight_layout()\n",
    "\n",
    "#fig.savefig('supleSeniorsHomeAge.pdf')"
   ]
  },
  {
   "cell_type": "markdown",
   "metadata": {},
   "source": [
    "##### Plot histogram of number of seniors in nursing facilities by age vs seniors in family dwellings by age in the 5M sample"
   ]
  },
  {
   "cell_type": "code",
   "execution_count": 38,
   "metadata": {},
   "outputs": [
    {
     "data": {
      "image/png": "[encoded data removed]",
      "text/plain": [
       "<Figure size 576x432 with 1 Axes>"
      ]
     },
     "metadata": {
      "needs_background": "light"
     },
     "output_type": "display_data"
    }
   ],
   "source": [
    "from matplotlib import rcParams\n",
    "plt.rcParams['pdf.fonttype'] = 42\n",
    "\n",
    "fig, ax = plt.subplots(figsize = (8, 6))   \n",
    "\n",
    "mybins = (65, 70, 75, 80, 85, 90, 95, 100, 105, 110, 115, 120)\n",
    "\n",
    "allSeniorsPlot  = plt.hist(seniors,     color = 'thistle',      bins = mybins, rwidth = 0.9, label = 'Nursing facilities')\n",
    "seniorsHomePlot = plt.hist(seniorsHome, color = 'mediumpurple', bins = mybins, rwidth = 0.9, label = 'Family dwellings')\n",
    "\n",
    "leg = plt.legend(fontsize = 16,loc = 'upper right')\n",
    "\n",
    "ax.set_yscale('log')\n",
    "\n",
    "ax.set_ylabel(\"Number of seniors\", labelpad = 6, size = 18)\n",
    "ax.set_xlabel('Age [years]', labelpad = 8, size = 18)\n",
    "ax.tick_params(axis = 'x', size = 6, labelsize = 18)\n",
    "ax.tick_params(axis = 'y', size = 6, labelsize = 18)\n",
    "\n",
    "plt.tight_layout()\n",
    "\n",
    "#fig.savefig('supleSeniorsAge.pdf')"
   ]
  },
  {
   "cell_type": "markdown",
   "metadata": {},
   "source": [
    "##### Plot histogram of number of persons in the original 400k sample by number of factor"
   ]
  },
  {
   "cell_type": "code",
   "execution_count": 39,
   "metadata": {},
   "outputs": [
    {
     "data": {
      "text/plain": [
       "Text(0.5, 1.0, 'Original 400k sample')"
      ]
     },
     "execution_count": 39,
     "metadata": {},
     "output_type": "execute_result"
    },
    {
     "data": {
      "image/png": "[encoded data removed]",
      "text/plain": [
       "<Figure size 432x288 with 1 Axes>"
      ]
     },
     "metadata": {
      "needs_background": "light"
     },
     "output_type": "display_data"
    }
   ],
   "source": [
    "fig, ax = plt.subplots()\n",
    "\n",
    "factor400kHist = plt.hist(factor400k, color = 'deepskyblue', bins = 25, log = True, rwidth=0.9)\n",
    "ax.set_xlabel('Factor',   labelpad = 3,  weight ='bold', size = 8)\n",
    "ax.set_ylabel('Number of persons', labelpad = 1,  weight = 'bold', size = 8)\n",
    "ax.set_title('Original 400k sample', weight = 'bold', size = 10)\n",
    "#fig.savefig('factor400k.pdf')"
   ]
  },
  {
   "cell_type": "markdown",
   "metadata": {},
   "source": [
    "##### Plot histograms of age distributions of original 400k sample vs simulated 5M sample"
   ]
  },
  {
   "cell_type": "code",
   "execution_count": 40,
   "metadata": {},
   "outputs": [
    {
     "data": {
      "text/plain": [
       "Text(0.5, 1.0, 'Simulated 5M sample')"
      ]
     },
     "execution_count": 40,
     "metadata": {},
     "output_type": "execute_result"
    },
    {
     "data": {
      "image/png": "[encoded data removed]",
      "text/plain": [
       "<Figure size 432x288 with 1 Axes>"
      ]
     },
     "metadata": {
      "needs_background": "light"
     },
     "output_type": "display_data"
    },
    {
     "data": {
      "image/png": "[encoded data removed]",
      "text/plain": [
       "<Figure size 432x288 with 1 Axes>"
      ]
     },
     "metadata": {
      "needs_background": "light"
     },
     "output_type": "display_data"
    }
   ],
   "source": [
    "fig, ax = plt.subplots()\n",
    "\n",
    "age400kHist = plt.hist(age400k, color = 'cyan', bins = 25)\n",
    "ax.set_xlabel('Age [years]',   labelpad = 3,  weight ='bold', size = 8)\n",
    "ax.set_ylabel('Number of persons', labelpad = 1,  weight = 'bold', size = 8)\n",
    "ax.set_title('Original 400k sample', weight = 'bold', size = 10)\n",
    "#fig.savefig('age400k.pdf')\n",
    "\n",
    "fig, ax = plt.subplots()\n",
    "\n",
    "age5MHist = plt.hist(age5M, color = 'pink', bins = 25)\n",
    "ax.set_xlabel('Age [years]',   labelpad = 3,  weight = 'bold', size = 8)\n",
    "ax.set_ylabel('Number of persons', labelpad = 1,  weight = 'bold', size = 8)\n",
    "ax.set_title('Simulated 5M sample', weight = 'bold', size = 10)\n",
    "#fig.savefig('age5M.pdf')"
   ]
  },
  {
   "cell_type": "markdown",
   "metadata": {},
   "source": [
    "##### Compare age distributions of original 400k sample vs simulated 5M sample"
   ]
  },
  {
   "cell_type": "code",
   "execution_count": 41,
   "metadata": {},
   "outputs": [
    {
     "data": {
      "text/plain": [
       "Text(0, 0.5, 'Number of persons')"
      ]
     },
     "execution_count": 41,
     "metadata": {},
     "output_type": "execute_result"
    },
    {
     "data": {
      "image/png": "[encoded data removed]",
      "text/plain": [
       "<Figure size 432x288 with 1 Axes>"
      ]
     },
     "metadata": {
      "needs_background": "light"
     },
     "output_type": "display_data"
    }
   ],
   "source": [
    "fig, ax = plt.subplots()\n",
    "\n",
    "age5MHist = plt.hist(age5M, color = 'deepskyblue', bins = 25, rwidth=0.9, linewidth = 2, label = \"Simulated 5M\")\n",
    "\n",
    "age400kScaledHist = plt.hist(age400k, color = 'navy', bins = 25, label = \"Scaled 400k\", histtype='step', \\\n",
    "                             weights = numPeople5M / numPeople400k * np.ones_like(age400k))\n",
    "\n",
    "\n",
    "\n",
    "ax.legend()\n",
    "ax.set_xlabel('Age [years]',   labelpad = 3,  weight = 'bold', size = 8)\n",
    "ax.set_ylabel('Number of persons', labelpad = 1,  weight = 'bold', size = 8)\n",
    "#fig.savefig('ageWeightComparison.pdf')"
   ]
  },
  {
   "cell_type": "markdown",
   "metadata": {},
   "source": [
    "##### Plot histograms of number of persons in the original 400k sample and the simulated 5M sample by HomeID"
   ]
  },
  {
   "cell_type": "code",
   "execution_count": 42,
   "metadata": {},
   "outputs": [
    {
     "data": {
      "text/plain": [
       "Text(0.5, 1.0, 'Simulated 5M sample')"
      ]
     },
     "execution_count": 42,
     "metadata": {},
     "output_type": "execute_result"
    },
    {
     "data": {
      "image/png": "[encoded data removed]",
      "text/plain": [
       "<Figure size 432x288 with 1 Axes>"
      ]
     },
     "metadata": {
      "needs_background": "light"
     },
     "output_type": "display_data"
    },
    {
     "data": {
      "image/png": "[encoded data removed]",
      "text/plain": [
       "<Figure size 432x288 with 1 Axes>"
      ]
     },
     "metadata": {
      "needs_background": "light"
     },
     "output_type": "display_data"
    }
   ],
   "source": [
    "fig, ax = plt.subplots()\n",
    "\n",
    "homeID400kHist = plt.hist(homeID400k, color = 'cyan', bins = 25)\n",
    "ax.set_xlabel('Home ID',   labelpad = 3,  weight ='bold', size = 8)\n",
    "ax.set_ylabel('Number of persons', labelpad = 1,  weight = 'bold', size = 8)\n",
    "ax.set_title('Original 400k sample', weight = 'bold', size = 10)\n",
    "#fig.savefig('homeID400k.pdf')\n",
    "\n",
    "fig, ax = plt.subplots()\n",
    "\n",
    "homeID5MHist = plt.hist(homeID5M, color = 'pink', bins = 25)\n",
    "ax.set_xlabel('Home ID',   labelpad = 3,  weight = 'bold', size = 8)\n",
    "ax.set_ylabel('Number of persons', labelpad = 1,  weight = 'bold', size = 8)\n",
    "ax.set_title('Simulated 5M sample', weight = 'bold', size = 10)\n",
    "#fig.savefig('homeID5M.pdf')"
   ]
  },
  {
   "cell_type": "markdown",
   "metadata": {},
   "source": [
    "##### Plot histograms of number of persons in the original 400k sample and the simulated 5M sample by Job Status"
   ]
  },
  {
   "cell_type": "code",
   "execution_count": 43,
   "metadata": {},
   "outputs": [
    {
     "data": {
      "text/plain": [
       "Text(0.5, 1.0, 'Simulated 5M sample')"
      ]
     },
     "execution_count": 43,
     "metadata": {},
     "output_type": "execute_result"
    },
    {
     "data": {
      "image/png": "[encoded data removed]",
      "text/plain": [
       "<Figure size 432x288 with 1 Axes>"
      ]
     },
     "metadata": {
      "needs_background": "light"
     },
     "output_type": "display_data"
    },
    {
     "data": {
      "image/png": "[encoded data removed]",
      "text/plain": [
       "<Figure size 432x288 with 1 Axes>"
      ]
     },
     "metadata": {
      "needs_background": "light"
     },
     "output_type": "display_data"
    }
   ],
   "source": [
    "fig, ax = plt.subplots()\n",
    "\n",
    "jobStatusID400kHist = plt.hist(jobStatus400k, color = 'cyan', bins = 25)\n",
    "ax.set_xlabel('Job status',   labelpad = 3,  weight ='bold', size = 8)\n",
    "ax.set_ylabel('Number of persons', labelpad = 1,  weight = 'bold', size = 8)\n",
    "ax.set_title('Original 400k sample', weight = 'bold', size = 10)\n",
    "#fig.savefig('jobStatus400k.pdf')\n",
    "\n",
    "fig, ax = plt.subplots()\n",
    "\n",
    "jobStatusID5MHist = plt.hist(jobStatus5M, color = 'pink', bins = 25)\n",
    "ax.set_xlabel('Job status',   labelpad = 3,  weight = 'bold', size = 8)\n",
    "ax.set_ylabel('Number of persons', labelpad = 1,  weight = 'bold', size = 8)\n",
    "ax.set_title('Simulated 5M sample', weight = 'bold', size = 10)\n",
    "#fig.savefig('jobStatus5M.pdf')"
   ]
  },
  {
   "cell_type": "markdown",
   "metadata": {},
   "source": [
    "##### Plot histogram of the number of companies in the simulated 5M sample by Company ID  -->"
   ]
  },
  {
   "cell_type": "code",
   "execution_count": 44,
   "metadata": {},
   "outputs": [
    {
     "data": {
      "text/plain": [
       "Text(0.5, 1.0, 'Simulated 5M sample')"
      ]
     },
     "execution_count": 44,
     "metadata": {},
     "output_type": "execute_result"
    },
    {
     "data": {
      "image/png": "[encoded data removed]",
      "text/plain": [
       "<Figure size 432x288 with 1 Axes>"
      ]
     },
     "metadata": {
      "needs_background": "light"
     },
     "output_type": "display_data"
    }
   ],
   "source": [
    "fig, ax = plt.subplots()\n",
    "\n",
    "mybins = (1, 10000, 20000, 30000, 40000, 50000, 60000, 70000, 80000, 90000, 100000, 110000, 120000, \\\n",
    "          130000, 140000, 150000, 160000, 170000, 180000, 190000, 200000, 210000, 220000, 230000)\n",
    "\n",
    "companyIDHist = plt.hist(companyID, color = 'pink', bins = mybins)\n",
    "ax.set_xlabel('Company ID',   labelpad = 3,  weight = 'bold', size = 8)\n",
    "ax.set_ylabel('Number of companies', labelpad = 1,  weight = 'bold', size = 8)\n",
    "ax.set_title('Simulated 5M sample', weight = 'bold', size = 10)\n",
    "#fig.savefig('companyID.pdf')"
   ]
  },
  {
   "cell_type": "markdown",
   "metadata": {
    "tags": []
   },
   "source": [
    "##### Plot histogram of number of people by Region in the simulated 5M sample"
   ]
  },
  {
   "cell_type": "code",
   "execution_count": 45,
   "metadata": {},
   "outputs": [
    {
     "data": {
      "image/png": "[encoded data removed]",
      "text/plain": [
       "<Figure size 1440x576 with 1 Axes>"
      ]
     },
     "metadata": {
      "needs_background": "light"
     },
     "output_type": "display_data"
    }
   ],
   "source": [
    "import matplotlib.ticker as ticker\n",
    "\n",
    "xvalues = np.array([0, 10, 20, 30, 40, 50, 60, 70, 80])\n",
    "xlabels = np.array(['0', '10', '20', '30', '40', '50', '60', '70', '80'])\n",
    "\n",
    "\n",
    "fig, ax = plt.subplots(figsize=(20, 8))\n",
    "\n",
    "#schoolers  = plt.hist(region5M[schoolRegion5M != 'Nowhere'], bins = range(0, 85), log = False, color = 'deepskyblue', \\\n",
    "#                    label = 'Kids', rwidth=0.9)\n",
    "\n",
    "people  = plt.hist(region5M, bins = range(0, 85), log = False, color = 'deepskyblue', \\\n",
    "                    label = 'People', rwidth=0.9)\n",
    "\n",
    "#ax.legend(fontsize = 'x-large')\n",
    "#ax.set_ylim([0, 2.5e5]) \n",
    "ax.set_xlabel('Region',   labelpad = 3,  weight = 'bold', size = 18)\n",
    "ax.set_ylabel('Number of people', labelpad = 1,  weight = 'bold', size = 18)\n",
    "ax.set_xticks(xvalues)\n",
    "ax.set_xticklabels(xlabels, fontsize = 15)\n",
    "ax.tick_params(axis='y', labelsize = 15)"
   ]
  },
  {
   "cell_type": "code",
   "execution_count": 46,
   "metadata": {},
   "outputs": [
    {
     "data": {
      "image/png": "[encoded data removed]",
      "text/plain": [
       "<Figure size 1440x576 with 1 Axes>"
      ]
     },
     "metadata": {
      "needs_background": "light"
     },
     "output_type": "display_data"
    }
   ],
   "source": [
    "import matplotlib.ticker as ticker\n",
    "\n",
    "xvalues = np.array([0, 10, 20, 30, 40, 50, 60, 70, 80])\n",
    "xlabels = np.array(['0', '10', '20', '30', '40', '50', '60', '70', '80'])\n",
    "\n",
    "\n",
    "fig, ax = plt.subplots(figsize=(20, 8))\n",
    "\n",
    "#schoolers  = plt.hist(region5M[schoolRegion5M != 'Nowhere'], bins = range(0, 85), log = False, color = 'deepskyblue', \\\n",
    "#                    label = 'Kids', rwidth=0.9)\n",
    "\n",
    "people  = plt.hist(region5M, bins = range(0, 85), log = False, color = 'deepskyblue', \\\n",
    "                    label = 'People', rwidth=0.9)\n",
    "\n",
    "#ax.legend(fontsize = 'x-large')\n",
    "#ax.set_ylim([0, 2.5e5]) \n",
    "ax.set_xlabel('Region',   labelpad = 3,  weight = 'bold', size = 18)\n",
    "ax.set_ylabel('Number of people', labelpad = 1,  weight = 'bold', size = 18)\n",
    "ax.set_xticks(xvalues)\n",
    "ax.set_xticklabels(xlabels, fontsize = 15)\n",
    "ax.tick_params(axis='y', labelsize = 15)"
   ]
  },
  {
   "cell_type": "markdown",
   "metadata": {},
   "source": [
    "##### Plot histogram of time to school "
   ]
  },
  {
   "cell_type": "code",
   "execution_count": 47,
   "metadata": {},
   "outputs": [
    {
     "data": {
      "text/plain": [
       "<matplotlib.lines.Line2D at 0x2aea98f51040>"
      ]
     },
     "execution_count": 47,
     "metadata": {},
     "output_type": "execute_result"
    },
    {
     "data": {
      "image/png": "[encoded data removed]",
      "text/plain": [
       "<Figure size 432x288 with 1 Axes>"
      ]
     },
     "metadata": {
      "needs_background": "light"
     },
     "output_type": "display_data"
    }
   ],
   "source": [
    "field = 'TDESP'\n",
    "filter = (dfC2011OldData['EDAD'] <= 18) & (dfC2011OldData['RELA'] != 1) & (dfC2011OldData['LTRABA'] != 1)\n",
    "myVariable = dfC2011OldData[field].where(filter).dropna().to_numpy()\n",
    "\n",
    "nbins = 20\n",
    "\n",
    "fig, ax = plt.subplots()\n",
    "myplot = plt.hist(myVariable, color = 'salmon', bins = nbins, rwidth=0.9) \n",
    "plt.axvline(myVariable.mean(), color='k', linestyle='dashed', linewidth=1)"
   ]
  },
  {
   "cell_type": "markdown",
   "metadata": {},
   "source": [
    "##### Plot histogram of number of people by home occupancy in the simulated 5M sample"
   ]
  },
  {
   "cell_type": "code",
   "execution_count": 48,
   "metadata": {},
   "outputs": [
    {
     "data": {
      "text/plain": [
       "Text(0.5, 1.0, 'Simulated 5M sample')"
      ]
     },
     "execution_count": 48,
     "metadata": {},
     "output_type": "execute_result"
    },
    {
     "data": {
      "image/png": "[encoded data removed]",
      "text/plain": [
       "<Figure size 432x288 with 1 Axes>"
      ]
     },
     "metadata": {
      "needs_background": "light"
     },
     "output_type": "display_data"
    }
   ],
   "source": [
    "fig, ax = plt.subplots()\n",
    "\n",
    "homeOccupancyHist = plt.hist(homeOccupancy5M, color = 'deepskyblue', bins = range(0, 22), log = True, rwidth=0.9)\n",
    "ax.set_xlabel('Home occupancy',   labelpad = 3,  weight = 'bold', size = 8)\n",
    "ax.set_ylabel('Number of persons', labelpad = 1,  weight = 'bold', size = 8)\n",
    "ax.set_title('Simulated 5M sample', weight = 'bold', size = 10)"
   ]
  },
  {
   "cell_type": "markdown",
   "metadata": {},
   "source": [
    "##### Plot histogram of number of people by Region (by workers, workplaces and workers in own region) in the simulated 5M sample "
   ]
  },
  {
   "cell_type": "code",
   "execution_count": 49,
   "metadata": {
    "tags": []
   },
   "outputs": [
    {
     "data": {
      "image/png": "[encoded data removed]",
      "text/plain": [
       "<Figure size 1440x576 with 1 Axes>"
      ]
     },
     "metadata": {
      "needs_background": "light"
     },
     "output_type": "display_data"
    }
   ],
   "source": [
    "fig, ax = plt.subplots(figsize=(20, 8))\n",
    "\n",
    "xvalues = np.array([0, 10, 20, 30, 40, 50, 60, 70, 80])\n",
    "xlabels = np.array(['0', '10', '20', '30', '40', '50', '60', '70', '80'])\n",
    "\n",
    "workers   = plt.hist(region5M[workRegion5M != 'Nowhere'], bins = range(0, 85), log = False, color = 'deepskyblue', \\\n",
    "                     label = 'Workers', rwidth = 0.9)\n",
    "positions = plt.hist(workRegion5M[workRegion5M != 'Nowhere'], bins = range(0, 85), log = False, color = 'royalblue', \n",
    "                     histtype='barstacked', label = 'Workplaces', rwidth = 0.6)\n",
    "inRegion = plt.hist(region5M[workRegion5M == region5M], bins = range(0, 85), log = False, color = 'gold', \\\n",
    "                    histtype='barstacked', label = 'Workers in own region', rwidth = 0.3)\n",
    "\n",
    "ax.legend(fontsize = 'x-large')\n",
    "ax.set_ylim([0, 2.5e5]) \n",
    "ax.set_xlabel('Region',   labelpad = 3,  weight = 'bold', size = 18)\n",
    "ax.set_ylabel('Number of people', labelpad = 1,  weight = 'bold', size = 18)\n",
    "ax.set_xticks(xvalues)\n",
    "ax.set_xticklabels(xlabels, fontsize = 15)\n",
    "ax.tick_params(axis='y', labelsize = 15)\n",
    "#fig.savefig('workersPositionsAndOwnRegion.pdf')"
   ]
  }
 ],
 "metadata": {
  "kernelspec": {
   "display_name": "Python 3 (ipykernel)",
   "language": "python",
   "name": "python3"
  },
  "language_info": {
   "codemirror_mode": {
    "name": "ipython",
    "version": 3
   },
   "file_extension": ".py",
   "mimetype": "text/x-python",
   "name": "python",
   "nbconvert_exporter": "python",
   "pygments_lexer": "ipython3",
   "version": "3.9.10"
  }
 },
 "nbformat": 4,
 "nbformat_minor": 4
}
